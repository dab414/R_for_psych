{
 "cells": [
  {
   "cell_type": "markdown",
   "metadata": {},
   "source": [
    "# Functions in R\n",
    "\n",
    "Functions are weird but important to understand. **Any time** you see a word with parentheses next to it (e.g., `mean()`) it's a function! R is flexible enough to let you write your own functions, which can be useful if you need to perform some type of operation many times on different types of data.\n",
    "\n",
    "The basic logic is as follows:  \n",
    "input -> operations -> output\n",
    "\n",
    "Whenever you're working with functions, it's so crucial to understand all three steps: (1) what format does your input need to be in, (2) what type of operations are happening to your inputs, (3) what type of format will your output be in. When *using* functions, it's much more important to understand (1) and (3), but, when writing functions, you need to have a good grasp on all three steps."
   ]
  },
  {
   "cell_type": "markdown",
   "metadata": {},
   "source": [
    "Defining a function takes the following form:\n",
    "\n",
    "```\n",
    "myFunction <- function(arg1, arg2) {\n",
    "    operations\n",
    "    return(output)\n",
    "}\n",
    "\n",
    "## then when going to use the function:\n",
    "myFunction(arg1, arg2)\n",
    "```\n",
    "What's going on here:  \n",
    "* `myFunction` is just some arbitrary name you give to the function.\n",
    "* `arg1` and `arg2` are the *inputs* to your function (ie, the data that is coming in that you'll be working with inside the function.\n",
    "* `operations` just represents literally anything you want to perform on your inputs. Any valid R code will work.\n",
    "* `return()` you stick inside these parentheses everything you want the function's *output* to be.\n",
    "\n",
    "This basic format will get you a long way. Let's say we want to create a function that returns the sum of an input vector:"
   ]
  },
  {
   "cell_type": "code",
   "execution_count": 5,
   "metadata": {},
   "outputs": [
    {
     "name": "stdout",
     "output_type": "stream",
     "text": [
      "[1] 27\n"
     ]
    }
   ],
   "source": [
    "## define the function name and inputs, notice the input here is a VECTOR!!\n",
    "mySum <- function(arg1) {\n",
    "    ## initialize an output variable\n",
    "    ## notice I only care about returning one number, so I don't need to worry about initializing an object with a certain size\n",
    "    out <- 0\n",
    "    ## start a for loop where each 'element' is one element in the input vector\n",
    "    for (element in arg1) {\n",
    "        ## update the ouput variable by adding the new element of the input vector to the existing total\n",
    "        out = out + element\n",
    "    }\n",
    "    ## return the 'out' variable, which in this case is just a single number\n",
    "    return(out)\n",
    "}\n",
    "\n",
    "## call the function\n",
    "print(mySum(c(5,7,9,6)))"
   ]
  },
  {
   "cell_type": "markdown",
   "metadata": {},
   "source": [
    "Notice how even though the function only takes one argument, I'm still passing a whole vector to that argument. That's what the function expects to happen--one input, and that input is a vector of many elements. What happens if I don't use the `c()` notation?"
   ]
  },
  {
   "cell_type": "code",
   "execution_count": 7,
   "metadata": {},
   "outputs": [
    {
     "ename": "ERROR",
     "evalue": "Error in mySum(5, 7, 9, 6): unused arguments (7, 9, 6)\n",
     "output_type": "error",
     "traceback": [
      "Error in mySum(5, 7, 9, 6): unused arguments (7, 9, 6)\nTraceback:\n",
      "1. print(mySum(5, 7, 9, 6))"
     ]
    }
   ],
   "source": [
    "print(mySum(5,7,9,6))"
   ]
  },
  {
   "cell_type": "markdown",
   "metadata": {},
   "source": [
    "`mySum()` is only expecting one argument, so if I don't explicitly tell it that all those numbers should be treated as a single vector, it won't know what to do.\n",
    "\n",
    "But the nice thing about R is that it already *has* many functions that we need to do simple (and complex) statistical operations. We could've used the built-in `sum()` function:"
   ]
  },
  {
   "cell_type": "code",
   "execution_count": 12,
   "metadata": {
    "scrolled": true
   },
   "outputs": [
    {
     "name": "stdout",
     "output_type": "stream",
     "text": [
      "[1] 27\n"
     ]
    }
   ],
   "source": [
    "print(sum(c(5,7,9,6)))"
   ]
  },
  {
   "cell_type": "markdown",
   "metadata": {},
   "source": [
    "**Functions and Your Environment**  \n",
    "One last thing to note is that you need to be careful about how the operations in your function interact with the variables in your environment. You should assume that all the operations within your function will *only* have access to the variables that you fed to the function as inputs, *not* variables that globally exist in the environment (even though technically functions will have access to global variables, it's best practice to code as if they won't).\n",
    "\n",
    "One that same note, any variables that you create from within a function that aren't explicitly returned as output *will not* be accessible from outside the function.  \n",
    "\n",
    "I'll demonstrate both cases."
   ]
  },
  {
   "cell_type": "code",
   "execution_count": 1,
   "metadata": {},
   "outputs": [
    {
     "name": "stdout",
     "output_type": "stream",
     "text": [
      "[1] \"hello\"\n"
     ]
    }
   ],
   "source": [
    "## accessing global vars from within a function\n",
    "x <- 'hello'\n",
    "demo <- function(){\n",
    "    print(x)\n",
    "}\n",
    "demo()"
   ]
  },
  {
   "cell_type": "markdown",
   "metadata": {},
   "source": [
    "Like I said, this will work, but try to avoid coding like this."
   ]
  },
  {
   "cell_type": "code",
   "execution_count": 8,
   "metadata": {},
   "outputs": [
    {
     "name": "stdout",
     "output_type": "stream",
     "text": [
      "[1] \"hello\"\n"
     ]
    },
    {
     "ename": "ERROR",
     "evalue": "Error in print(y): object 'y' not found\n",
     "output_type": "error",
     "traceback": [
      "Error in print(y): object 'y' not found\nTraceback:\n",
      "1. print(y)"
     ]
    }
   ],
   "source": [
    "## accessing vars that were created inside a function but not explicitly returned as output\n",
    "x <- 'hello'\n",
    "demo <- function(){\n",
    "    y <- 5\n",
    "    print(x)\n",
    "}\n",
    "demo()\n",
    "print(y)"
   ]
  },
  {
   "cell_type": "markdown",
   "metadata": {},
   "source": [
    "Because the variable `y` was created inside the function `demo()`, it's not accessible when we try to get that function from outside the function, because we didn't explicitly return it. Contrast against:"
   ]
  },
  {
   "cell_type": "code",
   "execution_count": 4,
   "metadata": {},
   "outputs": [
    {
     "name": "stdout",
     "output_type": "stream",
     "text": [
      "[1] \"hello\"\n",
      "[1] 5\n"
     ]
    }
   ],
   "source": [
    "## accessing vars that were created inside a function and explicitly returned as output\n",
    "x <- 'hello'\n",
    "demo <- function(){\n",
    "    y <- 5\n",
    "    print(x)\n",
    "    return(y)\n",
    "}\n",
    "y <- demo()\n",
    "print(y)"
   ]
  },
  {
   "cell_type": "markdown",
   "metadata": {},
   "source": [
    "Notice how you have to assign the output to a variable. You can always keep an eye on the \"Environment\" window in RStudio to get a feel for when and why certain vars enter your environment."
   ]
  },
  {
   "cell_type": "markdown",
   "metadata": {},
   "source": [
    "Try writing your own mean function:"
   ]
  },
  {
   "cell_type": "code",
   "execution_count": null,
   "metadata": {},
   "outputs": [],
   "source": [
    "myMean <- function(arg1){\n",
    "    ### your code here\n",
    "    \n",
    "    return(out)\n",
    "}\n",
    "\n",
    "x <- c(5,4,1,9,4,2)\n",
    "print(myMean(x))"
   ]
  }
 ],
 "metadata": {
  "kernelspec": {
   "display_name": "R",
   "language": "R",
   "name": "ir"
  },
  "language_info": {
   "codemirror_mode": "r",
   "file_extension": ".r",
   "mimetype": "text/x-r-source",
   "name": "R",
   "pygments_lexer": "r",
   "version": "3.4.4"
  }
 },
 "nbformat": 4,
 "nbformat_minor": 2
}
