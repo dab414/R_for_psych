{
 "cells": [
  {
   "cell_type": "markdown",
   "metadata": {},
   "source": [
    "# Session 1 Exercises\n",
    "In-class demo"
   ]
  },
  {
   "cell_type": "code",
   "execution_count": null,
   "metadata": {},
   "outputs": [],
   "source": [
    "## don't worry about this\n",
    "test <- function(got, expected){\n",
    "  \n",
    "  if (got == expected) { \n",
    "    prefix <- 'Ok'\n",
    "  } else prefix <- 'X'\n",
    "  \n",
    "  paste(prefix, 'got:', got, 'expected:', expected)\n",
    "  \n",
    "}"
   ]
  },
  {
   "cell_type": "markdown",
   "metadata": {},
   "source": [
    "## Exercise 1\n",
    "Assign the values 5 and 6 to variables a and b, and return their sum"
   ]
  },
  {
   "cell_type": "code",
   "execution_count": null,
   "metadata": {},
   "outputs": [],
   "source": [
    "exercise1 <- function(){\n",
    "  ## assign the values 5 and 6 to variables a and b, and return their sum\n",
    "  \n",
    "  # your code here\n",
    "  a <- 5\n",
    "  b <- 6\n",
    "  result <- a + b\n",
    "  \n",
    "  return()\n",
    "  \n",
    "}\n",
    "\n",
    "\n",
    "test(exercise1(), 11)"
   ]
  },
  {
   "cell_type": "markdown",
   "metadata": {},
   "source": [
    "## Exercise 2\n",
    "Return the third row of the column 'red' in the data frame 'df'"
   ]
  },
  {
   "cell_type": "code",
   "execution_count": null,
   "metadata": {},
   "outputs": [],
   "source": [
    "exercise2 <- function(){\n",
    "  df <- data.frame(blue = 1:5, green = c(7,5,3,1,8), red = c(1.5,7.9,1.4,5.6,1.1))\n",
    "  \n",
    "  ## return the third row of the column 'red' in the data frame 'df'\n",
    "  \n",
    "  ## your code here\n",
    "\n",
    "  \n",
    "  return()\n",
    "  \n",
    "}\n",
    "\n",
    "test(exercise2(), 1.4)"
   ]
  },
  {
   "cell_type": "markdown",
   "metadata": {},
   "source": [
    "## Exercise 3"
   ]
  },
  {
   "cell_type": "code",
   "execution_count": null,
   "metadata": {},
   "outputs": [],
   "source": [
    "exercise3 <- function(){\n",
    "  set.seed(500)\n",
    "  fruit_data <- data.frame('pear' = runif(50), 'lemon' = runif(50), 'apple' = runif(50), 'grapes' = runif(50))\n",
    "  \n",
    "  ## return all rows of the dataset 'fruit_data' where the values of the 'lemon' variable are \n",
    "    #greater than .25, and the values of the 'pear' variable are less than .75\n",
    "  ## make a new variable called 'orange' that is equal to 'pear' times 'lemon'\n",
    "  ## return the mean of oranges times the mean of lemons\n",
    "  \n",
    "  \n",
    "  ## your code here\n",
    "   \n",
    "  \n",
    "  return()\n",
    "  \n",
    "}\n",
    "\n",
    "test(round(exercise3(),1), 0.1)"
   ]
  },
  {
   "cell_type": "markdown",
   "metadata": {},
   "source": [
    "## Exercise 4"
   ]
  },
  {
   "cell_type": "code",
   "execution_count": null,
   "metadata": {},
   "outputs": [],
   "source": [
    "library(MASS)\n",
    "exercise4 <- function(){\n",
    "\tdf <- freeny\n",
    "  ## Exercise 4 -- kinda hard\n",
    "  ## for the 'df' dataset, make a new variable with a value equal to 1 if income.level \n",
    "    #is greater than or equal to 6 and market.potential is greater than 13\n",
    "  ## otherwise, return a 2 if price.index is between 4.60 and 4.65, otherwise return a 0\n",
    "  ## return the mean of this new variable\n",
    "  \n",
    "  ## your code here\n",
    "  \n",
    "  \n",
    "  \n",
    "  return()\n",
    "  \n",
    "}\n",
    "\n",
    "test(round(exercise4(),2),1.03)"
   ]
  },
  {
   "cell_type": "markdown",
   "metadata": {},
   "source": [
    "## Exercise 5"
   ]
  },
  {
   "cell_type": "code",
   "execution_count": null,
   "metadata": {},
   "outputs": [],
   "source": [
    "exercise5 <- function(){\n",
    "  tooth <- ToothGrowth\n",
    "  \n",
    "  ## Exercise 5 -- ADVANCED\n",
    "  ## the dataset 'tooth' looks at the effect of Vitamin C on tooth growth in guinea pigs\n",
    "  ## in this dataset, run a t-test that tests the influence of supplemant (supp) on tooth length \n",
    "    #(each row represents one guinea pig)\n",
    "  ## return all the results of the t-test, the p-value from this output will be extracted to test your result\n",
    "  ## hint: the t-test function is: t.test()\n",
    "\n",
    "  ## your code here\n",
    "  \n",
    "  return()\n",
    "  \n",
    "}\n",
    "\n",
    "test(round(exercise5()$p.value,2),.06)"
   ]
  }
 ],
 "metadata": {
  "kernelspec": {
   "display_name": "R",
   "language": "R",
   "name": "ir"
  },
  "language_info": {
   "codemirror_mode": "r",
   "file_extension": ".r",
   "mimetype": "text/x-r-source",
   "name": "R",
   "pygments_lexer": "r",
   "version": "3.4.4"
  }
 },
 "nbformat": 4,
 "nbformat_minor": 2
}
