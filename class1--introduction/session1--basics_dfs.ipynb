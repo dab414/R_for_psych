{
 "cells": [
  {
   "cell_type": "markdown",
   "metadata": {},
   "source": [
    "# The Data Frame\n",
    "The data frame is the primary framework that you'll be dealing with in R for data analysis. A lot of the same vector rules apply, except now we're dealing in two dimensions.\n",
    "\n",
    "It's often useful to work with single columns (ie, vectors), so a lot of the logic we went over with respect to vectors will be highly relevant when working with a single variable in a data frame. "
   ]
  },
  {
   "cell_type": "code",
   "execution_count": 1,
   "metadata": {},
   "outputs": [],
   "source": [
    "## pulling in a dataset that R has sort of built in\n",
    "library(MASS)\n",
    "df <- ToothGrowth"
   ]
  },
  {
   "cell_type": "markdown",
   "metadata": {},
   "source": [
    "The assignment operator `<-` means that the variable `df` now represents the dataset. We can index this dataset with brackets `[]` much in the same way that we indexed vectors. But the first thing to do is to run some summary functions so we can get a sense of what data we're dealing with:"
   ]
  },
  {
   "cell_type": "code",
   "execution_count": 5,
   "metadata": {},
   "outputs": [
    {
     "data": {
      "text/html": [
       "<table>\n",
       "<thead><tr><th scope=col>len</th><th scope=col>supp</th><th scope=col>dose</th></tr></thead>\n",
       "<tbody>\n",
       "\t<tr><td> 4.2</td><td>VC  </td><td>0.5 </td></tr>\n",
       "\t<tr><td>11.5</td><td>VC  </td><td>0.5 </td></tr>\n",
       "\t<tr><td> 7.3</td><td>VC  </td><td>0.5 </td></tr>\n",
       "\t<tr><td> 5.8</td><td>VC  </td><td>0.5 </td></tr>\n",
       "\t<tr><td> 6.4</td><td>VC  </td><td>0.5 </td></tr>\n",
       "\t<tr><td>10.0</td><td>VC  </td><td>0.5 </td></tr>\n",
       "</tbody>\n",
       "</table>\n"
      ],
      "text/latex": [
       "\\begin{tabular}{r|lll}\n",
       " len & supp & dose\\\\\n",
       "\\hline\n",
       "\t  4.2 & VC   & 0.5 \\\\\n",
       "\t 11.5 & VC   & 0.5 \\\\\n",
       "\t  7.3 & VC   & 0.5 \\\\\n",
       "\t  5.8 & VC   & 0.5 \\\\\n",
       "\t  6.4 & VC   & 0.5 \\\\\n",
       "\t 10.0 & VC   & 0.5 \\\\\n",
       "\\end{tabular}\n"
      ],
      "text/markdown": [
       "\n",
       "len | supp | dose | \n",
       "|---|---|---|---|---|---|\n",
       "|  4.2 | VC   | 0.5  | \n",
       "| 11.5 | VC   | 0.5  | \n",
       "|  7.3 | VC   | 0.5  | \n",
       "|  5.8 | VC   | 0.5  | \n",
       "|  6.4 | VC   | 0.5  | \n",
       "| 10.0 | VC   | 0.5  | \n",
       "\n",
       "\n"
      ],
      "text/plain": [
       "  len  supp dose\n",
       "1  4.2 VC   0.5 \n",
       "2 11.5 VC   0.5 \n",
       "3  7.3 VC   0.5 \n",
       "4  5.8 VC   0.5 \n",
       "5  6.4 VC   0.5 \n",
       "6 10.0 VC   0.5 "
      ]
     },
     "metadata": {},
     "output_type": "display_data"
    },
    {
     "data": {
      "text/plain": [
       "      len        supp         dose      \n",
       " Min.   : 4.20   OJ:30   Min.   :0.500  \n",
       " 1st Qu.:13.07   VC:30   1st Qu.:0.500  \n",
       " Median :19.25           Median :1.000  \n",
       " Mean   :18.81           Mean   :1.167  \n",
       " 3rd Qu.:25.27           3rd Qu.:2.000  \n",
       " Max.   :33.90           Max.   :2.000  "
      ]
     },
     "metadata": {},
     "output_type": "display_data"
    },
    {
     "name": "stdout",
     "output_type": "stream",
     "text": [
      "'data.frame':\t60 obs. of  3 variables:\n",
      " $ len : num  4.2 11.5 7.3 5.8 6.4 10 11.2 11.2 5.2 7 ...\n",
      " $ supp: Factor w/ 2 levels \"OJ\",\"VC\": 2 2 2 2 2 2 2 2 2 2 ...\n",
      " $ dose: num  0.5 0.5 0.5 0.5 0.5 0.5 0.5 0.5 0.5 0.5 ...\n"
     ]
    },
    {
     "data": {
      "text/html": [
       "60"
      ],
      "text/latex": [
       "60"
      ],
      "text/markdown": [
       "60"
      ],
      "text/plain": [
       "[1] 60"
      ]
     },
     "metadata": {},
     "output_type": "display_data"
    },
    {
     "data": {
      "text/html": [
       "<ol class=list-inline>\n",
       "\t<li>'len'</li>\n",
       "\t<li>'supp'</li>\n",
       "\t<li>'dose'</li>\n",
       "</ol>\n"
      ],
      "text/latex": [
       "\\begin{enumerate*}\n",
       "\\item 'len'\n",
       "\\item 'supp'\n",
       "\\item 'dose'\n",
       "\\end{enumerate*}\n"
      ],
      "text/markdown": [
       "1. 'len'\n",
       "2. 'supp'\n",
       "3. 'dose'\n",
       "\n",
       "\n"
      ],
      "text/plain": [
       "[1] \"len\"  \"supp\" \"dose\""
      ]
     },
     "metadata": {},
     "output_type": "display_data"
    },
    {
     "ename": "ERROR",
     "evalue": "Error in View(df): ‘View()’ not yet supported in the Jupyter R kernel\n",
     "output_type": "error",
     "traceback": [
      "Error in View(df): ‘View()’ not yet supported in the Jupyter R kernel\nTraceback:\n",
      "1. View(df)",
      "2. stop(sQuote(\"View()\"), \" not yet supported in the Jupyter R kernel\")"
     ]
    }
   ],
   "source": [
    "head(df) ## print out the first few rows\n",
    "summary(df) ## quick descriptives on each variable in the dataset\n",
    "str(df) ## shows us the variable types\n",
    "nrow(df) ## returns the number of rows in the data\n",
    "colnames(df) ## returns the names of the columns as a string vector\n",
    "View(df) ## view the data in a spreadsheet format"
   ]
  },
  {
   "cell_type": "markdown",
   "metadata": {},
   "source": [
    "If we want to index out a certain value out of the data we can do so with the following format:  \n",
    "`data[rows, columns]`"
   ]
  },
  {
   "cell_type": "code",
   "execution_count": 3,
   "metadata": {
    "scrolled": true
   },
   "outputs": [
    {
     "data": {
      "text/html": [
       "VC\n",
       "<details>\n",
       "\t<summary style=display:list-item;cursor:pointer>\n",
       "\t\t<strong>Levels</strong>:\n",
       "\t</summary>\n",
       "\t<ol class=list-inline>\n",
       "\t\t<li>'OJ'</li>\n",
       "\t\t<li>'VC'</li>\n",
       "\t</ol>\n",
       "</details>"
      ],
      "text/latex": [
       "VC\n",
       "\\emph{Levels}: \\begin{enumerate*}\n",
       "\\item 'OJ'\n",
       "\\item 'VC'\n",
       "\\end{enumerate*}\n"
      ],
      "text/markdown": [
       "VC\n",
       "**Levels**: 1. 'OJ'\n",
       "2. 'VC'\n",
       "\n",
       "\n"
      ],
      "text/plain": [
       "[1] VC\n",
       "Levels: OJ VC"
      ]
     },
     "metadata": {},
     "output_type": "display_data"
    }
   ],
   "source": [
    "df[3,2]"
   ]
  },
  {
   "cell_type": "markdown",
   "metadata": {},
   "source": [
    "One shortcut to grabbing a whole column out of the data is to use dollar sign notation `$`.  \n",
    "Example: `data$column1` will return as a vector all the values in `column1`, where *column1* is the name of the actual column in the data."
   ]
  },
  {
   "cell_type": "code",
   "execution_count": 4,
   "metadata": {
    "scrolled": true
   },
   "outputs": [
    {
     "data": {
      "text/html": [
       "<ol class=list-inline>\n",
       "\t<li>4.2</li>\n",
       "\t<li>11.5</li>\n",
       "\t<li>7.3</li>\n",
       "\t<li>5.8</li>\n",
       "\t<li>6.4</li>\n",
       "\t<li>10</li>\n",
       "\t<li>11.2</li>\n",
       "\t<li>11.2</li>\n",
       "\t<li>5.2</li>\n",
       "\t<li>7</li>\n",
       "\t<li>16.5</li>\n",
       "\t<li>16.5</li>\n",
       "\t<li>15.2</li>\n",
       "\t<li>17.3</li>\n",
       "\t<li>22.5</li>\n",
       "\t<li>17.3</li>\n",
       "\t<li>13.6</li>\n",
       "\t<li>14.5</li>\n",
       "\t<li>18.8</li>\n",
       "\t<li>15.5</li>\n",
       "\t<li>23.6</li>\n",
       "\t<li>18.5</li>\n",
       "\t<li>33.9</li>\n",
       "\t<li>25.5</li>\n",
       "\t<li>26.4</li>\n",
       "\t<li>32.5</li>\n",
       "\t<li>26.7</li>\n",
       "\t<li>21.5</li>\n",
       "\t<li>23.3</li>\n",
       "\t<li>29.5</li>\n",
       "\t<li>15.2</li>\n",
       "\t<li>21.5</li>\n",
       "\t<li>17.6</li>\n",
       "\t<li>9.7</li>\n",
       "\t<li>14.5</li>\n",
       "\t<li>10</li>\n",
       "\t<li>8.2</li>\n",
       "\t<li>9.4</li>\n",
       "\t<li>16.5</li>\n",
       "\t<li>9.7</li>\n",
       "\t<li>19.7</li>\n",
       "\t<li>23.3</li>\n",
       "\t<li>23.6</li>\n",
       "\t<li>26.4</li>\n",
       "\t<li>20</li>\n",
       "\t<li>25.2</li>\n",
       "\t<li>25.8</li>\n",
       "\t<li>21.2</li>\n",
       "\t<li>14.5</li>\n",
       "\t<li>27.3</li>\n",
       "\t<li>25.5</li>\n",
       "\t<li>26.4</li>\n",
       "\t<li>22.4</li>\n",
       "\t<li>24.5</li>\n",
       "\t<li>24.8</li>\n",
       "\t<li>30.9</li>\n",
       "\t<li>26.4</li>\n",
       "\t<li>27.3</li>\n",
       "\t<li>29.4</li>\n",
       "\t<li>23</li>\n",
       "</ol>\n"
      ],
      "text/latex": [
       "\\begin{enumerate*}\n",
       "\\item 4.2\n",
       "\\item 11.5\n",
       "\\item 7.3\n",
       "\\item 5.8\n",
       "\\item 6.4\n",
       "\\item 10\n",
       "\\item 11.2\n",
       "\\item 11.2\n",
       "\\item 5.2\n",
       "\\item 7\n",
       "\\item 16.5\n",
       "\\item 16.5\n",
       "\\item 15.2\n",
       "\\item 17.3\n",
       "\\item 22.5\n",
       "\\item 17.3\n",
       "\\item 13.6\n",
       "\\item 14.5\n",
       "\\item 18.8\n",
       "\\item 15.5\n",
       "\\item 23.6\n",
       "\\item 18.5\n",
       "\\item 33.9\n",
       "\\item 25.5\n",
       "\\item 26.4\n",
       "\\item 32.5\n",
       "\\item 26.7\n",
       "\\item 21.5\n",
       "\\item 23.3\n",
       "\\item 29.5\n",
       "\\item 15.2\n",
       "\\item 21.5\n",
       "\\item 17.6\n",
       "\\item 9.7\n",
       "\\item 14.5\n",
       "\\item 10\n",
       "\\item 8.2\n",
       "\\item 9.4\n",
       "\\item 16.5\n",
       "\\item 9.7\n",
       "\\item 19.7\n",
       "\\item 23.3\n",
       "\\item 23.6\n",
       "\\item 26.4\n",
       "\\item 20\n",
       "\\item 25.2\n",
       "\\item 25.8\n",
       "\\item 21.2\n",
       "\\item 14.5\n",
       "\\item 27.3\n",
       "\\item 25.5\n",
       "\\item 26.4\n",
       "\\item 22.4\n",
       "\\item 24.5\n",
       "\\item 24.8\n",
       "\\item 30.9\n",
       "\\item 26.4\n",
       "\\item 27.3\n",
       "\\item 29.4\n",
       "\\item 23\n",
       "\\end{enumerate*}\n"
      ],
      "text/markdown": [
       "1. 4.2\n",
       "2. 11.5\n",
       "3. 7.3\n",
       "4. 5.8\n",
       "5. 6.4\n",
       "6. 10\n",
       "7. 11.2\n",
       "8. 11.2\n",
       "9. 5.2\n",
       "10. 7\n",
       "11. 16.5\n",
       "12. 16.5\n",
       "13. 15.2\n",
       "14. 17.3\n",
       "15. 22.5\n",
       "16. 17.3\n",
       "17. 13.6\n",
       "18. 14.5\n",
       "19. 18.8\n",
       "20. 15.5\n",
       "21. 23.6\n",
       "22. 18.5\n",
       "23. 33.9\n",
       "24. 25.5\n",
       "25. 26.4\n",
       "26. 32.5\n",
       "27. 26.7\n",
       "28. 21.5\n",
       "29. 23.3\n",
       "30. 29.5\n",
       "31. 15.2\n",
       "32. 21.5\n",
       "33. 17.6\n",
       "34. 9.7\n",
       "35. 14.5\n",
       "36. 10\n",
       "37. 8.2\n",
       "38. 9.4\n",
       "39. 16.5\n",
       "40. 9.7\n",
       "41. 19.7\n",
       "42. 23.3\n",
       "43. 23.6\n",
       "44. 26.4\n",
       "45. 20\n",
       "46. 25.2\n",
       "47. 25.8\n",
       "48. 21.2\n",
       "49. 14.5\n",
       "50. 27.3\n",
       "51. 25.5\n",
       "52. 26.4\n",
       "53. 22.4\n",
       "54. 24.5\n",
       "55. 24.8\n",
       "56. 30.9\n",
       "57. 26.4\n",
       "58. 27.3\n",
       "59. 29.4\n",
       "60. 23\n",
       "\n",
       "\n"
      ],
      "text/plain": [
       " [1]  4.2 11.5  7.3  5.8  6.4 10.0 11.2 11.2  5.2  7.0 16.5 16.5 15.2 17.3 22.5\n",
       "[16] 17.3 13.6 14.5 18.8 15.5 23.6 18.5 33.9 25.5 26.4 32.5 26.7 21.5 23.3 29.5\n",
       "[31] 15.2 21.5 17.6  9.7 14.5 10.0  8.2  9.4 16.5  9.7 19.7 23.3 23.6 26.4 20.0\n",
       "[46] 25.2 25.8 21.2 14.5 27.3 25.5 26.4 22.4 24.5 24.8 30.9 26.4 27.3 29.4 23.0"
      ]
     },
     "metadata": {},
     "output_type": "display_data"
    }
   ],
   "source": [
    "df$len"
   ]
  },
  {
   "cell_type": "markdown",
   "metadata": {},
   "source": [
    "We can then work with this output just like you would any other vector:"
   ]
  },
  {
   "cell_type": "code",
   "execution_count": 6,
   "metadata": {},
   "outputs": [
    {
     "data": {
      "text/html": [
       "<ol class=list-inline>\n",
       "\t<li>4.2</li>\n",
       "\t<li>11.5</li>\n",
       "\t<li>7.3</li>\n",
       "\t<li>5.8</li>\n",
       "\t<li>6.4</li>\n",
       "</ol>\n"
      ],
      "text/latex": [
       "\\begin{enumerate*}\n",
       "\\item 4.2\n",
       "\\item 11.5\n",
       "\\item 7.3\n",
       "\\item 5.8\n",
       "\\item 6.4\n",
       "\\end{enumerate*}\n"
      ],
      "text/markdown": [
       "1. 4.2\n",
       "2. 11.5\n",
       "3. 7.3\n",
       "4. 5.8\n",
       "5. 6.4\n",
       "\n",
       "\n"
      ],
      "text/plain": [
       "[1]  4.2 11.5  7.3  5.8  6.4"
      ]
     },
     "metadata": {},
     "output_type": "display_data"
    }
   ],
   "source": [
    "df$len[1:5]"
   ]
  },
  {
   "cell_type": "markdown",
   "metadata": {},
   "source": [
    "Notice how the code above is equivalent to indexing the whole data frame with two dimensions as below:"
   ]
  },
  {
   "cell_type": "code",
   "execution_count": 7,
   "metadata": {},
   "outputs": [
    {
     "data": {
      "text/html": [
       "<ol class=list-inline>\n",
       "\t<li>4.2</li>\n",
       "\t<li>11.5</li>\n",
       "\t<li>7.3</li>\n",
       "\t<li>5.8</li>\n",
       "\t<li>6.4</li>\n",
       "</ol>\n"
      ],
      "text/latex": [
       "\\begin{enumerate*}\n",
       "\\item 4.2\n",
       "\\item 11.5\n",
       "\\item 7.3\n",
       "\\item 5.8\n",
       "\\item 6.4\n",
       "\\end{enumerate*}\n"
      ],
      "text/markdown": [
       "1. 4.2\n",
       "2. 11.5\n",
       "3. 7.3\n",
       "4. 5.8\n",
       "5. 6.4\n",
       "\n",
       "\n"
      ],
      "text/plain": [
       "[1]  4.2 11.5  7.3  5.8  6.4"
      ]
     },
     "metadata": {},
     "output_type": "display_data"
    }
   ],
   "source": [
    "df[1:5,'len']"
   ]
  },
  {
   "cell_type": "markdown",
   "metadata": {},
   "source": [
    "Whenever you reference a column in brackets like `data[rows, columns]`, you either have to refer to the column with the column number or with the column name **in quotes**. When using the dollar sign notation, you don't need to use quotes."
   ]
  },
  {
   "cell_type": "code",
   "execution_count": 8,
   "metadata": {},
   "outputs": [
    {
     "ename": "ERROR",
     "evalue": "Error in `[.data.frame`(df, 1:5, len): object 'len' not found\n",
     "output_type": "error",
     "traceback": [
      "Error in `[.data.frame`(df, 1:5, len): object 'len' not found\nTraceback:\n",
      "1. df[1:5, len]",
      "2. `[.data.frame`(df, 1:5, len)"
     ]
    }
   ],
   "source": [
    "df[1:5,len]"
   ]
  },
  {
   "cell_type": "markdown",
   "metadata": {},
   "source": [
    "If you want to index rows *or* columns and return all values on the dimension you didn't index (eg, index certain rows and return all columns), you still use a comma but just leave the slot blank that you don't wish to index over."
   ]
  },
  {
   "cell_type": "code",
   "execution_count": 9,
   "metadata": {},
   "outputs": [
    {
     "data": {
      "text/html": [
       "<table>\n",
       "<thead><tr><th scope=col>len</th><th scope=col>supp</th><th scope=col>dose</th></tr></thead>\n",
       "<tbody>\n",
       "\t<tr><td> 4.2</td><td>VC  </td><td>0.5 </td></tr>\n",
       "\t<tr><td>11.5</td><td>VC  </td><td>0.5 </td></tr>\n",
       "\t<tr><td> 7.3</td><td>VC  </td><td>0.5 </td></tr>\n",
       "\t<tr><td> 5.8</td><td>VC  </td><td>0.5 </td></tr>\n",
       "\t<tr><td> 6.4</td><td>VC  </td><td>0.5 </td></tr>\n",
       "\t<tr><td>10.0</td><td>VC  </td><td>0.5 </td></tr>\n",
       "\t<tr><td>11.2</td><td>VC  </td><td>0.5 </td></tr>\n",
       "</tbody>\n",
       "</table>\n"
      ],
      "text/latex": [
       "\\begin{tabular}{r|lll}\n",
       " len & supp & dose\\\\\n",
       "\\hline\n",
       "\t  4.2 & VC   & 0.5 \\\\\n",
       "\t 11.5 & VC   & 0.5 \\\\\n",
       "\t  7.3 & VC   & 0.5 \\\\\n",
       "\t  5.8 & VC   & 0.5 \\\\\n",
       "\t  6.4 & VC   & 0.5 \\\\\n",
       "\t 10.0 & VC   & 0.5 \\\\\n",
       "\t 11.2 & VC   & 0.5 \\\\\n",
       "\\end{tabular}\n"
      ],
      "text/markdown": [
       "\n",
       "len | supp | dose | \n",
       "|---|---|---|---|---|---|---|\n",
       "|  4.2 | VC   | 0.5  | \n",
       "| 11.5 | VC   | 0.5  | \n",
       "|  7.3 | VC   | 0.5  | \n",
       "|  5.8 | VC   | 0.5  | \n",
       "|  6.4 | VC   | 0.5  | \n",
       "| 10.0 | VC   | 0.5  | \n",
       "| 11.2 | VC   | 0.5  | \n",
       "\n",
       "\n"
      ],
      "text/plain": [
       "  len  supp dose\n",
       "1  4.2 VC   0.5 \n",
       "2 11.5 VC   0.5 \n",
       "3  7.3 VC   0.5 \n",
       "4  5.8 VC   0.5 \n",
       "5  6.4 VC   0.5 \n",
       "6 10.0 VC   0.5 \n",
       "7 11.2 VC   0.5 "
      ]
     },
     "metadata": {},
     "output_type": "display_data"
    }
   ],
   "source": [
    "df[1:7,]"
   ]
  },
  {
   "cell_type": "code",
   "execution_count": 11,
   "metadata": {},
   "outputs": [
    {
     "data": {
      "text/html": [
       "<ol class=list-inline>\n",
       "\t<li>4.2</li>\n",
       "\t<li>11.5</li>\n",
       "\t<li>7.3</li>\n",
       "\t<li>5.8</li>\n",
       "\t<li>6.4</li>\n",
       "\t<li>10</li>\n",
       "\t<li>11.2</li>\n",
       "\t<li>11.2</li>\n",
       "\t<li>5.2</li>\n",
       "\t<li>7</li>\n",
       "\t<li>16.5</li>\n",
       "\t<li>16.5</li>\n",
       "\t<li>15.2</li>\n",
       "\t<li>17.3</li>\n",
       "\t<li>22.5</li>\n",
       "\t<li>17.3</li>\n",
       "\t<li>13.6</li>\n",
       "\t<li>14.5</li>\n",
       "\t<li>18.8</li>\n",
       "\t<li>15.5</li>\n",
       "\t<li>23.6</li>\n",
       "\t<li>18.5</li>\n",
       "\t<li>33.9</li>\n",
       "\t<li>25.5</li>\n",
       "\t<li>26.4</li>\n",
       "\t<li>32.5</li>\n",
       "\t<li>26.7</li>\n",
       "\t<li>21.5</li>\n",
       "\t<li>23.3</li>\n",
       "\t<li>29.5</li>\n",
       "\t<li>15.2</li>\n",
       "\t<li>21.5</li>\n",
       "\t<li>17.6</li>\n",
       "\t<li>9.7</li>\n",
       "\t<li>14.5</li>\n",
       "\t<li>10</li>\n",
       "\t<li>8.2</li>\n",
       "\t<li>9.4</li>\n",
       "\t<li>16.5</li>\n",
       "\t<li>9.7</li>\n",
       "\t<li>19.7</li>\n",
       "\t<li>23.3</li>\n",
       "\t<li>23.6</li>\n",
       "\t<li>26.4</li>\n",
       "\t<li>20</li>\n",
       "\t<li>25.2</li>\n",
       "\t<li>25.8</li>\n",
       "\t<li>21.2</li>\n",
       "\t<li>14.5</li>\n",
       "\t<li>27.3</li>\n",
       "\t<li>25.5</li>\n",
       "\t<li>26.4</li>\n",
       "\t<li>22.4</li>\n",
       "\t<li>24.5</li>\n",
       "\t<li>24.8</li>\n",
       "\t<li>30.9</li>\n",
       "\t<li>26.4</li>\n",
       "\t<li>27.3</li>\n",
       "\t<li>29.4</li>\n",
       "\t<li>23</li>\n",
       "</ol>\n"
      ],
      "text/latex": [
       "\\begin{enumerate*}\n",
       "\\item 4.2\n",
       "\\item 11.5\n",
       "\\item 7.3\n",
       "\\item 5.8\n",
       "\\item 6.4\n",
       "\\item 10\n",
       "\\item 11.2\n",
       "\\item 11.2\n",
       "\\item 5.2\n",
       "\\item 7\n",
       "\\item 16.5\n",
       "\\item 16.5\n",
       "\\item 15.2\n",
       "\\item 17.3\n",
       "\\item 22.5\n",
       "\\item 17.3\n",
       "\\item 13.6\n",
       "\\item 14.5\n",
       "\\item 18.8\n",
       "\\item 15.5\n",
       "\\item 23.6\n",
       "\\item 18.5\n",
       "\\item 33.9\n",
       "\\item 25.5\n",
       "\\item 26.4\n",
       "\\item 32.5\n",
       "\\item 26.7\n",
       "\\item 21.5\n",
       "\\item 23.3\n",
       "\\item 29.5\n",
       "\\item 15.2\n",
       "\\item 21.5\n",
       "\\item 17.6\n",
       "\\item 9.7\n",
       "\\item 14.5\n",
       "\\item 10\n",
       "\\item 8.2\n",
       "\\item 9.4\n",
       "\\item 16.5\n",
       "\\item 9.7\n",
       "\\item 19.7\n",
       "\\item 23.3\n",
       "\\item 23.6\n",
       "\\item 26.4\n",
       "\\item 20\n",
       "\\item 25.2\n",
       "\\item 25.8\n",
       "\\item 21.2\n",
       "\\item 14.5\n",
       "\\item 27.3\n",
       "\\item 25.5\n",
       "\\item 26.4\n",
       "\\item 22.4\n",
       "\\item 24.5\n",
       "\\item 24.8\n",
       "\\item 30.9\n",
       "\\item 26.4\n",
       "\\item 27.3\n",
       "\\item 29.4\n",
       "\\item 23\n",
       "\\end{enumerate*}\n"
      ],
      "text/markdown": [
       "1. 4.2\n",
       "2. 11.5\n",
       "3. 7.3\n",
       "4. 5.8\n",
       "5. 6.4\n",
       "6. 10\n",
       "7. 11.2\n",
       "8. 11.2\n",
       "9. 5.2\n",
       "10. 7\n",
       "11. 16.5\n",
       "12. 16.5\n",
       "13. 15.2\n",
       "14. 17.3\n",
       "15. 22.5\n",
       "16. 17.3\n",
       "17. 13.6\n",
       "18. 14.5\n",
       "19. 18.8\n",
       "20. 15.5\n",
       "21. 23.6\n",
       "22. 18.5\n",
       "23. 33.9\n",
       "24. 25.5\n",
       "25. 26.4\n",
       "26. 32.5\n",
       "27. 26.7\n",
       "28. 21.5\n",
       "29. 23.3\n",
       "30. 29.5\n",
       "31. 15.2\n",
       "32. 21.5\n",
       "33. 17.6\n",
       "34. 9.7\n",
       "35. 14.5\n",
       "36. 10\n",
       "37. 8.2\n",
       "38. 9.4\n",
       "39. 16.5\n",
       "40. 9.7\n",
       "41. 19.7\n",
       "42. 23.3\n",
       "43. 23.6\n",
       "44. 26.4\n",
       "45. 20\n",
       "46. 25.2\n",
       "47. 25.8\n",
       "48. 21.2\n",
       "49. 14.5\n",
       "50. 27.3\n",
       "51. 25.5\n",
       "52. 26.4\n",
       "53. 22.4\n",
       "54. 24.5\n",
       "55. 24.8\n",
       "56. 30.9\n",
       "57. 26.4\n",
       "58. 27.3\n",
       "59. 29.4\n",
       "60. 23\n",
       "\n",
       "\n"
      ],
      "text/plain": [
       " [1]  4.2 11.5  7.3  5.8  6.4 10.0 11.2 11.2  5.2  7.0 16.5 16.5 15.2 17.3 22.5\n",
       "[16] 17.3 13.6 14.5 18.8 15.5 23.6 18.5 33.9 25.5 26.4 32.5 26.7 21.5 23.3 29.5\n",
       "[31] 15.2 21.5 17.6  9.7 14.5 10.0  8.2  9.4 16.5  9.7 19.7 23.3 23.6 26.4 20.0\n",
       "[46] 25.2 25.8 21.2 14.5 27.3 25.5 26.4 22.4 24.5 24.8 30.9 26.4 27.3 29.4 23.0"
      ]
     },
     "metadata": {},
     "output_type": "display_data"
    }
   ],
   "source": [
    "df[,'len'] ## notice how this gets returned as a vector, not as a data frame with one column"
   ]
  },
  {
   "cell_type": "markdown",
   "metadata": {},
   "source": [
    "The crazy nesting rules that we learned about with vectors come back into play when we want to index rows of the data:"
   ]
  },
  {
   "cell_type": "code",
   "execution_count": 15,
   "metadata": {},
   "outputs": [
    {
     "data": {
      "text/html": [
       "<table>\n",
       "<thead><tr><th></th><th scope=col>len</th><th scope=col>supp</th><th scope=col>dose</th></tr></thead>\n",
       "<tbody>\n",
       "\t<tr><th scope=row>23</th><td>33.9</td><td>VC  </td><td>2   </td></tr>\n",
       "\t<tr><th scope=row>26</th><td>32.5</td><td>VC  </td><td>2   </td></tr>\n",
       "\t<tr><th scope=row>56</th><td>30.9</td><td>OJ  </td><td>2   </td></tr>\n",
       "</tbody>\n",
       "</table>\n"
      ],
      "text/latex": [
       "\\begin{tabular}{r|lll}\n",
       "  & len & supp & dose\\\\\n",
       "\\hline\n",
       "\t23 & 33.9 & VC   & 2   \\\\\n",
       "\t26 & 32.5 & VC   & 2   \\\\\n",
       "\t56 & 30.9 & OJ   & 2   \\\\\n",
       "\\end{tabular}\n"
      ],
      "text/markdown": [
       "\n",
       "| <!--/--> | len | supp | dose | \n",
       "|---|---|---|\n",
       "| 23 | 33.9 | VC   | 2    | \n",
       "| 26 | 32.5 | VC   | 2    | \n",
       "| 56 | 30.9 | OJ   | 2    | \n",
       "\n",
       "\n"
      ],
      "text/plain": [
       "   len  supp dose\n",
       "23 33.9 VC   2   \n",
       "26 32.5 VC   2   \n",
       "56 30.9 OJ   2   "
      ]
     },
     "metadata": {},
     "output_type": "display_data"
    }
   ],
   "source": [
    "df[df$len > 30,] ## return whole rows of the dataset where values in the 'len' variable are greater than 30"
   ]
  },
  {
   "cell_type": "markdown",
   "metadata": {},
   "source": [
    "Remember, if you ever forget what's going on with the nesting stuff, break it down into parts:"
   ]
  },
  {
   "cell_type": "code",
   "execution_count": 16,
   "metadata": {},
   "outputs": [
    {
     "data": {
      "text/html": [
       "<ol class=list-inline>\n",
       "\t<li>4.2</li>\n",
       "\t<li>11.5</li>\n",
       "\t<li>7.3</li>\n",
       "\t<li>5.8</li>\n",
       "\t<li>6.4</li>\n",
       "\t<li>10</li>\n",
       "\t<li>11.2</li>\n",
       "\t<li>11.2</li>\n",
       "\t<li>5.2</li>\n",
       "\t<li>7</li>\n",
       "\t<li>16.5</li>\n",
       "\t<li>16.5</li>\n",
       "\t<li>15.2</li>\n",
       "\t<li>17.3</li>\n",
       "\t<li>22.5</li>\n",
       "\t<li>17.3</li>\n",
       "\t<li>13.6</li>\n",
       "\t<li>14.5</li>\n",
       "\t<li>18.8</li>\n",
       "\t<li>15.5</li>\n",
       "\t<li>23.6</li>\n",
       "\t<li>18.5</li>\n",
       "\t<li>33.9</li>\n",
       "\t<li>25.5</li>\n",
       "\t<li>26.4</li>\n",
       "\t<li>32.5</li>\n",
       "\t<li>26.7</li>\n",
       "\t<li>21.5</li>\n",
       "\t<li>23.3</li>\n",
       "\t<li>29.5</li>\n",
       "\t<li>15.2</li>\n",
       "\t<li>21.5</li>\n",
       "\t<li>17.6</li>\n",
       "\t<li>9.7</li>\n",
       "\t<li>14.5</li>\n",
       "\t<li>10</li>\n",
       "\t<li>8.2</li>\n",
       "\t<li>9.4</li>\n",
       "\t<li>16.5</li>\n",
       "\t<li>9.7</li>\n",
       "\t<li>19.7</li>\n",
       "\t<li>23.3</li>\n",
       "\t<li>23.6</li>\n",
       "\t<li>26.4</li>\n",
       "\t<li>20</li>\n",
       "\t<li>25.2</li>\n",
       "\t<li>25.8</li>\n",
       "\t<li>21.2</li>\n",
       "\t<li>14.5</li>\n",
       "\t<li>27.3</li>\n",
       "\t<li>25.5</li>\n",
       "\t<li>26.4</li>\n",
       "\t<li>22.4</li>\n",
       "\t<li>24.5</li>\n",
       "\t<li>24.8</li>\n",
       "\t<li>30.9</li>\n",
       "\t<li>26.4</li>\n",
       "\t<li>27.3</li>\n",
       "\t<li>29.4</li>\n",
       "\t<li>23</li>\n",
       "</ol>\n"
      ],
      "text/latex": [
       "\\begin{enumerate*}\n",
       "\\item 4.2\n",
       "\\item 11.5\n",
       "\\item 7.3\n",
       "\\item 5.8\n",
       "\\item 6.4\n",
       "\\item 10\n",
       "\\item 11.2\n",
       "\\item 11.2\n",
       "\\item 5.2\n",
       "\\item 7\n",
       "\\item 16.5\n",
       "\\item 16.5\n",
       "\\item 15.2\n",
       "\\item 17.3\n",
       "\\item 22.5\n",
       "\\item 17.3\n",
       "\\item 13.6\n",
       "\\item 14.5\n",
       "\\item 18.8\n",
       "\\item 15.5\n",
       "\\item 23.6\n",
       "\\item 18.5\n",
       "\\item 33.9\n",
       "\\item 25.5\n",
       "\\item 26.4\n",
       "\\item 32.5\n",
       "\\item 26.7\n",
       "\\item 21.5\n",
       "\\item 23.3\n",
       "\\item 29.5\n",
       "\\item 15.2\n",
       "\\item 21.5\n",
       "\\item 17.6\n",
       "\\item 9.7\n",
       "\\item 14.5\n",
       "\\item 10\n",
       "\\item 8.2\n",
       "\\item 9.4\n",
       "\\item 16.5\n",
       "\\item 9.7\n",
       "\\item 19.7\n",
       "\\item 23.3\n",
       "\\item 23.6\n",
       "\\item 26.4\n",
       "\\item 20\n",
       "\\item 25.2\n",
       "\\item 25.8\n",
       "\\item 21.2\n",
       "\\item 14.5\n",
       "\\item 27.3\n",
       "\\item 25.5\n",
       "\\item 26.4\n",
       "\\item 22.4\n",
       "\\item 24.5\n",
       "\\item 24.8\n",
       "\\item 30.9\n",
       "\\item 26.4\n",
       "\\item 27.3\n",
       "\\item 29.4\n",
       "\\item 23\n",
       "\\end{enumerate*}\n"
      ],
      "text/markdown": [
       "1. 4.2\n",
       "2. 11.5\n",
       "3. 7.3\n",
       "4. 5.8\n",
       "5. 6.4\n",
       "6. 10\n",
       "7. 11.2\n",
       "8. 11.2\n",
       "9. 5.2\n",
       "10. 7\n",
       "11. 16.5\n",
       "12. 16.5\n",
       "13. 15.2\n",
       "14. 17.3\n",
       "15. 22.5\n",
       "16. 17.3\n",
       "17. 13.6\n",
       "18. 14.5\n",
       "19. 18.8\n",
       "20. 15.5\n",
       "21. 23.6\n",
       "22. 18.5\n",
       "23. 33.9\n",
       "24. 25.5\n",
       "25. 26.4\n",
       "26. 32.5\n",
       "27. 26.7\n",
       "28. 21.5\n",
       "29. 23.3\n",
       "30. 29.5\n",
       "31. 15.2\n",
       "32. 21.5\n",
       "33. 17.6\n",
       "34. 9.7\n",
       "35. 14.5\n",
       "36. 10\n",
       "37. 8.2\n",
       "38. 9.4\n",
       "39. 16.5\n",
       "40. 9.7\n",
       "41. 19.7\n",
       "42. 23.3\n",
       "43. 23.6\n",
       "44. 26.4\n",
       "45. 20\n",
       "46. 25.2\n",
       "47. 25.8\n",
       "48. 21.2\n",
       "49. 14.5\n",
       "50. 27.3\n",
       "51. 25.5\n",
       "52. 26.4\n",
       "53. 22.4\n",
       "54. 24.5\n",
       "55. 24.8\n",
       "56. 30.9\n",
       "57. 26.4\n",
       "58. 27.3\n",
       "59. 29.4\n",
       "60. 23\n",
       "\n",
       "\n"
      ],
      "text/plain": [
       " [1]  4.2 11.5  7.3  5.8  6.4 10.0 11.2 11.2  5.2  7.0 16.5 16.5 15.2 17.3 22.5\n",
       "[16] 17.3 13.6 14.5 18.8 15.5 23.6 18.5 33.9 25.5 26.4 32.5 26.7 21.5 23.3 29.5\n",
       "[31] 15.2 21.5 17.6  9.7 14.5 10.0  8.2  9.4 16.5  9.7 19.7 23.3 23.6 26.4 20.0\n",
       "[46] 25.2 25.8 21.2 14.5 27.3 25.5 26.4 22.4 24.5 24.8 30.9 26.4 27.3 29.4 23.0"
      ]
     },
     "metadata": {},
     "output_type": "display_data"
    }
   ],
   "source": [
    "df$len"
   ]
  },
  {
   "cell_type": "code",
   "execution_count": 18,
   "metadata": {},
   "outputs": [
    {
     "data": {
      "text/html": [
       "<ol class=list-inline>\n",
       "\t<li>FALSE</li>\n",
       "\t<li>FALSE</li>\n",
       "\t<li>FALSE</li>\n",
       "\t<li>FALSE</li>\n",
       "\t<li>FALSE</li>\n",
       "\t<li>FALSE</li>\n",
       "\t<li>FALSE</li>\n",
       "\t<li>FALSE</li>\n",
       "\t<li>FALSE</li>\n",
       "\t<li>FALSE</li>\n",
       "\t<li>FALSE</li>\n",
       "\t<li>FALSE</li>\n",
       "\t<li>FALSE</li>\n",
       "\t<li>FALSE</li>\n",
       "\t<li>FALSE</li>\n",
       "\t<li>FALSE</li>\n",
       "\t<li>FALSE</li>\n",
       "\t<li>FALSE</li>\n",
       "\t<li>FALSE</li>\n",
       "\t<li>FALSE</li>\n",
       "\t<li>FALSE</li>\n",
       "\t<li>FALSE</li>\n",
       "\t<li>TRUE</li>\n",
       "\t<li>FALSE</li>\n",
       "\t<li>FALSE</li>\n",
       "\t<li>TRUE</li>\n",
       "\t<li>FALSE</li>\n",
       "\t<li>FALSE</li>\n",
       "\t<li>FALSE</li>\n",
       "\t<li>FALSE</li>\n",
       "\t<li>FALSE</li>\n",
       "\t<li>FALSE</li>\n",
       "\t<li>FALSE</li>\n",
       "\t<li>FALSE</li>\n",
       "\t<li>FALSE</li>\n",
       "\t<li>FALSE</li>\n",
       "\t<li>FALSE</li>\n",
       "\t<li>FALSE</li>\n",
       "\t<li>FALSE</li>\n",
       "\t<li>FALSE</li>\n",
       "\t<li>FALSE</li>\n",
       "\t<li>FALSE</li>\n",
       "\t<li>FALSE</li>\n",
       "\t<li>FALSE</li>\n",
       "\t<li>FALSE</li>\n",
       "\t<li>FALSE</li>\n",
       "\t<li>FALSE</li>\n",
       "\t<li>FALSE</li>\n",
       "\t<li>FALSE</li>\n",
       "\t<li>FALSE</li>\n",
       "\t<li>FALSE</li>\n",
       "\t<li>FALSE</li>\n",
       "\t<li>FALSE</li>\n",
       "\t<li>FALSE</li>\n",
       "\t<li>FALSE</li>\n",
       "\t<li>TRUE</li>\n",
       "\t<li>FALSE</li>\n",
       "\t<li>FALSE</li>\n",
       "\t<li>FALSE</li>\n",
       "\t<li>FALSE</li>\n",
       "</ol>\n"
      ],
      "text/latex": [
       "\\begin{enumerate*}\n",
       "\\item FALSE\n",
       "\\item FALSE\n",
       "\\item FALSE\n",
       "\\item FALSE\n",
       "\\item FALSE\n",
       "\\item FALSE\n",
       "\\item FALSE\n",
       "\\item FALSE\n",
       "\\item FALSE\n",
       "\\item FALSE\n",
       "\\item FALSE\n",
       "\\item FALSE\n",
       "\\item FALSE\n",
       "\\item FALSE\n",
       "\\item FALSE\n",
       "\\item FALSE\n",
       "\\item FALSE\n",
       "\\item FALSE\n",
       "\\item FALSE\n",
       "\\item FALSE\n",
       "\\item FALSE\n",
       "\\item FALSE\n",
       "\\item TRUE\n",
       "\\item FALSE\n",
       "\\item FALSE\n",
       "\\item TRUE\n",
       "\\item FALSE\n",
       "\\item FALSE\n",
       "\\item FALSE\n",
       "\\item FALSE\n",
       "\\item FALSE\n",
       "\\item FALSE\n",
       "\\item FALSE\n",
       "\\item FALSE\n",
       "\\item FALSE\n",
       "\\item FALSE\n",
       "\\item FALSE\n",
       "\\item FALSE\n",
       "\\item FALSE\n",
       "\\item FALSE\n",
       "\\item FALSE\n",
       "\\item FALSE\n",
       "\\item FALSE\n",
       "\\item FALSE\n",
       "\\item FALSE\n",
       "\\item FALSE\n",
       "\\item FALSE\n",
       "\\item FALSE\n",
       "\\item FALSE\n",
       "\\item FALSE\n",
       "\\item FALSE\n",
       "\\item FALSE\n",
       "\\item FALSE\n",
       "\\item FALSE\n",
       "\\item FALSE\n",
       "\\item TRUE\n",
       "\\item FALSE\n",
       "\\item FALSE\n",
       "\\item FALSE\n",
       "\\item FALSE\n",
       "\\end{enumerate*}\n"
      ],
      "text/markdown": [
       "1. FALSE\n",
       "2. FALSE\n",
       "3. FALSE\n",
       "4. FALSE\n",
       "5. FALSE\n",
       "6. FALSE\n",
       "7. FALSE\n",
       "8. FALSE\n",
       "9. FALSE\n",
       "10. FALSE\n",
       "11. FALSE\n",
       "12. FALSE\n",
       "13. FALSE\n",
       "14. FALSE\n",
       "15. FALSE\n",
       "16. FALSE\n",
       "17. FALSE\n",
       "18. FALSE\n",
       "19. FALSE\n",
       "20. FALSE\n",
       "21. FALSE\n",
       "22. FALSE\n",
       "23. TRUE\n",
       "24. FALSE\n",
       "25. FALSE\n",
       "26. TRUE\n",
       "27. FALSE\n",
       "28. FALSE\n",
       "29. FALSE\n",
       "30. FALSE\n",
       "31. FALSE\n",
       "32. FALSE\n",
       "33. FALSE\n",
       "34. FALSE\n",
       "35. FALSE\n",
       "36. FALSE\n",
       "37. FALSE\n",
       "38. FALSE\n",
       "39. FALSE\n",
       "40. FALSE\n",
       "41. FALSE\n",
       "42. FALSE\n",
       "43. FALSE\n",
       "44. FALSE\n",
       "45. FALSE\n",
       "46. FALSE\n",
       "47. FALSE\n",
       "48. FALSE\n",
       "49. FALSE\n",
       "50. FALSE\n",
       "51. FALSE\n",
       "52. FALSE\n",
       "53. FALSE\n",
       "54. FALSE\n",
       "55. FALSE\n",
       "56. TRUE\n",
       "57. FALSE\n",
       "58. FALSE\n",
       "59. FALSE\n",
       "60. FALSE\n",
       "\n",
       "\n"
      ],
      "text/plain": [
       " [1] FALSE FALSE FALSE FALSE FALSE FALSE FALSE FALSE FALSE FALSE FALSE FALSE\n",
       "[13] FALSE FALSE FALSE FALSE FALSE FALSE FALSE FALSE FALSE FALSE  TRUE FALSE\n",
       "[25] FALSE  TRUE FALSE FALSE FALSE FALSE FALSE FALSE FALSE FALSE FALSE FALSE\n",
       "[37] FALSE FALSE FALSE FALSE FALSE FALSE FALSE FALSE FALSE FALSE FALSE FALSE\n",
       "[49] FALSE FALSE FALSE FALSE FALSE FALSE FALSE  TRUE FALSE FALSE FALSE FALSE"
      ]
     },
     "metadata": {},
     "output_type": "display_data"
    }
   ],
   "source": [
    "df$len > 30"
   ]
  },
  {
   "cell_type": "markdown",
   "metadata": {},
   "source": [
    "### Coding new variables\n",
    "You can use the dollar sign notation to come up with new variable names and then assign values to that variable.\n",
    "\n",
    "To center a variable, for example:"
   ]
  },
  {
   "cell_type": "code",
   "execution_count": 22,
   "metadata": {},
   "outputs": [
    {
     "data": {
      "text/html": [
       "<table>\n",
       "<thead><tr><th scope=col>len</th><th scope=col>supp</th><th scope=col>dose</th><th scope=col>len_c</th></tr></thead>\n",
       "<tbody>\n",
       "\t<tr><td> 4.2      </td><td>VC        </td><td>0.5       </td><td>-14.613333</td></tr>\n",
       "\t<tr><td>11.5      </td><td>VC        </td><td>0.5       </td><td> -7.313333</td></tr>\n",
       "\t<tr><td> 7.3      </td><td>VC        </td><td>0.5       </td><td>-11.513333</td></tr>\n",
       "\t<tr><td> 5.8      </td><td>VC        </td><td>0.5       </td><td>-13.013333</td></tr>\n",
       "\t<tr><td> 6.4      </td><td>VC        </td><td>0.5       </td><td>-12.413333</td></tr>\n",
       "\t<tr><td>10.0      </td><td>VC        </td><td>0.5       </td><td> -8.813333</td></tr>\n",
       "</tbody>\n",
       "</table>\n"
      ],
      "text/latex": [
       "\\begin{tabular}{r|llll}\n",
       " len & supp & dose & len\\_c\\\\\n",
       "\\hline\n",
       "\t  4.2       & VC         & 0.5        & -14.613333\\\\\n",
       "\t 11.5       & VC         & 0.5        &  -7.313333\\\\\n",
       "\t  7.3       & VC         & 0.5        & -11.513333\\\\\n",
       "\t  5.8       & VC         & 0.5        & -13.013333\\\\\n",
       "\t  6.4       & VC         & 0.5        & -12.413333\\\\\n",
       "\t 10.0       & VC         & 0.5        &  -8.813333\\\\\n",
       "\\end{tabular}\n"
      ],
      "text/markdown": [
       "\n",
       "len | supp | dose | len_c | \n",
       "|---|---|---|---|---|---|\n",
       "|  4.2       | VC         | 0.5        | -14.613333 | \n",
       "| 11.5       | VC         | 0.5        |  -7.313333 | \n",
       "|  7.3       | VC         | 0.5        | -11.513333 | \n",
       "|  5.8       | VC         | 0.5        | -13.013333 | \n",
       "|  6.4       | VC         | 0.5        | -12.413333 | \n",
       "| 10.0       | VC         | 0.5        |  -8.813333 | \n",
       "\n",
       "\n"
      ],
      "text/plain": [
       "  len  supp dose len_c     \n",
       "1  4.2 VC   0.5  -14.613333\n",
       "2 11.5 VC   0.5   -7.313333\n",
       "3  7.3 VC   0.5  -11.513333\n",
       "4  5.8 VC   0.5  -13.013333\n",
       "5  6.4 VC   0.5  -12.413333\n",
       "6 10.0 VC   0.5   -8.813333"
      ]
     },
     "metadata": {},
     "output_type": "display_data"
    }
   ],
   "source": [
    "df$len_c <- df$len - mean(df$len)\n",
    "head(df)"
   ]
  },
  {
   "cell_type": "markdown",
   "metadata": {},
   "source": [
    "**Making if / else contingencies in coding a new variable**  \n",
    "For example, I want to create a new variable that has a score of 1 if the 'len' is greater than the median of 'lens', otherwise make it have a score of 0."
   ]
  },
  {
   "cell_type": "code",
   "execution_count": 26,
   "metadata": {},
   "outputs": [
    {
     "data": {
      "text/html": [
       "<table>\n",
       "<thead><tr><th></th><th scope=col>len</th><th scope=col>supp</th><th scope=col>dose</th><th scope=col>len_c</th><th scope=col>len_d</th></tr></thead>\n",
       "<tbody>\n",
       "\t<tr><th scope=row>20</th><td>15.5      </td><td>VC        </td><td>1         </td><td>-3.3133333</td><td>0         </td></tr>\n",
       "\t<tr><th scope=row>21</th><td>23.6      </td><td>VC        </td><td>2         </td><td> 4.7866667</td><td>1         </td></tr>\n",
       "\t<tr><th scope=row>22</th><td>18.5      </td><td>VC        </td><td>2         </td><td>-0.3133333</td><td>0         </td></tr>\n",
       "\t<tr><th scope=row>23</th><td>33.9      </td><td>VC        </td><td>2         </td><td>15.0866667</td><td>1         </td></tr>\n",
       "\t<tr><th scope=row>24</th><td>25.5      </td><td>VC        </td><td>2         </td><td> 6.6866667</td><td>1         </td></tr>\n",
       "\t<tr><th scope=row>25</th><td>26.4      </td><td>VC        </td><td>2         </td><td> 7.5866667</td><td>1         </td></tr>\n",
       "\t<tr><th scope=row>26</th><td>32.5      </td><td>VC        </td><td>2         </td><td>13.6866667</td><td>1         </td></tr>\n",
       "\t<tr><th scope=row>27</th><td>26.7      </td><td>VC        </td><td>2         </td><td> 7.8866667</td><td>1         </td></tr>\n",
       "\t<tr><th scope=row>28</th><td>21.5      </td><td>VC        </td><td>2         </td><td> 2.6866667</td><td>1         </td></tr>\n",
       "\t<tr><th scope=row>29</th><td>23.3      </td><td>VC        </td><td>2         </td><td> 4.4866667</td><td>1         </td></tr>\n",
       "\t<tr><th scope=row>30</th><td>29.5      </td><td>VC        </td><td>2         </td><td>10.6866667</td><td>1         </td></tr>\n",
       "</tbody>\n",
       "</table>\n"
      ],
      "text/latex": [
       "\\begin{tabular}{r|lllll}\n",
       "  & len & supp & dose & len\\_c & len\\_d\\\\\n",
       "\\hline\n",
       "\t20 & 15.5       & VC         & 1          & -3.3133333 & 0         \\\\\n",
       "\t21 & 23.6       & VC         & 2          &  4.7866667 & 1         \\\\\n",
       "\t22 & 18.5       & VC         & 2          & -0.3133333 & 0         \\\\\n",
       "\t23 & 33.9       & VC         & 2          & 15.0866667 & 1         \\\\\n",
       "\t24 & 25.5       & VC         & 2          &  6.6866667 & 1         \\\\\n",
       "\t25 & 26.4       & VC         & 2          &  7.5866667 & 1         \\\\\n",
       "\t26 & 32.5       & VC         & 2          & 13.6866667 & 1         \\\\\n",
       "\t27 & 26.7       & VC         & 2          &  7.8866667 & 1         \\\\\n",
       "\t28 & 21.5       & VC         & 2          &  2.6866667 & 1         \\\\\n",
       "\t29 & 23.3       & VC         & 2          &  4.4866667 & 1         \\\\\n",
       "\t30 & 29.5       & VC         & 2          & 10.6866667 & 1         \\\\\n",
       "\\end{tabular}\n"
      ],
      "text/markdown": [
       "\n",
       "| <!--/--> | len | supp | dose | len_c | len_d | \n",
       "|---|---|---|---|---|---|---|---|---|---|---|\n",
       "| 20 | 15.5       | VC         | 1          | -3.3133333 | 0          | \n",
       "| 21 | 23.6       | VC         | 2          |  4.7866667 | 1          | \n",
       "| 22 | 18.5       | VC         | 2          | -0.3133333 | 0          | \n",
       "| 23 | 33.9       | VC         | 2          | 15.0866667 | 1          | \n",
       "| 24 | 25.5       | VC         | 2          |  6.6866667 | 1          | \n",
       "| 25 | 26.4       | VC         | 2          |  7.5866667 | 1          | \n",
       "| 26 | 32.5       | VC         | 2          | 13.6866667 | 1          | \n",
       "| 27 | 26.7       | VC         | 2          |  7.8866667 | 1          | \n",
       "| 28 | 21.5       | VC         | 2          |  2.6866667 | 1          | \n",
       "| 29 | 23.3       | VC         | 2          |  4.4866667 | 1          | \n",
       "| 30 | 29.5       | VC         | 2          | 10.6866667 | 1          | \n",
       "\n",
       "\n"
      ],
      "text/plain": [
       "   len  supp dose len_c      len_d\n",
       "20 15.5 VC   1    -3.3133333 0    \n",
       "21 23.6 VC   2     4.7866667 1    \n",
       "22 18.5 VC   2    -0.3133333 0    \n",
       "23 33.9 VC   2    15.0866667 1    \n",
       "24 25.5 VC   2     6.6866667 1    \n",
       "25 26.4 VC   2     7.5866667 1    \n",
       "26 32.5 VC   2    13.6866667 1    \n",
       "27 26.7 VC   2     7.8866667 1    \n",
       "28 21.5 VC   2     2.6866667 1    \n",
       "29 23.3 VC   2     4.4866667 1    \n",
       "30 29.5 VC   2    10.6866667 1    "
      ]
     },
     "metadata": {},
     "output_type": "display_data"
    }
   ],
   "source": [
    "df$len_d <- ifelse(df$len > median(df$len), 1, 0)\n",
    "df[20:30,]"
   ]
  },
  {
   "cell_type": "markdown",
   "metadata": {},
   "source": [
    "## Messing with a real dataset"
   ]
  },
  {
   "cell_type": "code",
   "execution_count": 27,
   "metadata": {},
   "outputs": [
    {
     "data": {
      "text/html": [
       "<table>\n",
       "<thead><tr><th scope=col>direction</th><th scope=col>orientation</th><th scope=col>station</th><th scope=col>subjective_distance</th></tr></thead>\n",
       "<tbody>\n",
       "\t<tr><td>EAST</td><td>1   </td><td>1   </td><td>5   </td></tr>\n",
       "\t<tr><td>EAST</td><td>1   </td><td>1   </td><td>4   </td></tr>\n",
       "\t<tr><td>EAST</td><td>1   </td><td>1   </td><td>3   </td></tr>\n",
       "\t<tr><td>EAST</td><td>1   </td><td>1   </td><td>3   </td></tr>\n",
       "\t<tr><td>EAST</td><td>1   </td><td>1   </td><td>4   </td></tr>\n",
       "\t<tr><td>EAST</td><td>1   </td><td>1   </td><td>1   </td></tr>\n",
       "</tbody>\n",
       "</table>\n"
      ],
      "text/latex": [
       "\\begin{tabular}{r|llll}\n",
       " direction & orientation & station & subjective\\_distance\\\\\n",
       "\\hline\n",
       "\t EAST & 1    & 1    & 5   \\\\\n",
       "\t EAST & 1    & 1    & 4   \\\\\n",
       "\t EAST & 1    & 1    & 3   \\\\\n",
       "\t EAST & 1    & 1    & 3   \\\\\n",
       "\t EAST & 1    & 1    & 4   \\\\\n",
       "\t EAST & 1    & 1    & 1   \\\\\n",
       "\\end{tabular}\n"
      ],
      "text/markdown": [
       "\n",
       "direction | orientation | station | subjective_distance | \n",
       "|---|---|---|---|---|---|\n",
       "| EAST | 1    | 1    | 5    | \n",
       "| EAST | 1    | 1    | 4    | \n",
       "| EAST | 1    | 1    | 3    | \n",
       "| EAST | 1    | 1    | 3    | \n",
       "| EAST | 1    | 1    | 4    | \n",
       "| EAST | 1    | 1    | 1    | \n",
       "\n",
       "\n"
      ],
      "text/plain": [
       "  direction orientation station subjective_distance\n",
       "1 EAST      1           1       5                  \n",
       "2 EAST      1           1       4                  \n",
       "3 EAST      1           1       3                  \n",
       "4 EAST      1           1       3                  \n",
       "5 EAST      1           1       4                  \n",
       "6 EAST      1           1       1                  "
      ]
     },
     "metadata": {},
     "output_type": "display_data"
    }
   ],
   "source": [
    "df <- read.csv('https://davebraun.org/quant/current_data.csv')\n",
    "head(df)"
   ]
  }
 ],
 "metadata": {
  "kernelspec": {
   "display_name": "R",
   "language": "R",
   "name": "ir"
  },
  "language_info": {
   "codemirror_mode": "r",
   "file_extension": ".r",
   "mimetype": "text/x-r-source",
   "name": "R",
   "pygments_lexer": "r",
   "version": "3.4.4"
  }
 },
 "nbformat": 4,
 "nbformat_minor": 2
}
