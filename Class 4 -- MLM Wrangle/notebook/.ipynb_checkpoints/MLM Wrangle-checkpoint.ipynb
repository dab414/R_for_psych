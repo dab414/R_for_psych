{
 "cells": [
  {
   "cell_type": "markdown",
   "metadata": {},
   "source": [
    "## Multi-Level Models in R\n",
    "This notebook is dedicated to walking through how to run and interpret multi-level models in R."
   ]
  },
  {
   "cell_type": "code",
   "execution_count": 2,
   "metadata": {},
   "outputs": [],
   "source": [
    "library(tidyverse)\n",
    "library(data.table)\n",
    "library(lme4)"
   ]
  },
  {
   "cell_type": "code",
   "execution_count": 5,
   "metadata": {},
   "outputs": [],
   "source": [
    "current_data <- fread('https://davebraun.org/data/natasha_data.csv', stringsAsFactors = TRUE)"
   ]
  },
  {
   "cell_type": "code",
   "execution_count": 6,
   "metadata": {},
   "outputs": [
    {
     "data": {
      "text/html": [
       "<table>\n",
       "<thead><tr><th scope=col>participant</th><th scope=col>bx</th><th scope=col>bx_label</th><th scope=col>category</th><th scope=col>Blame</th><th scope=col>BlameRef</th><th scope=col>Char</th><th scope=col>CharRef</th><th scope=col>ComCare</th><th scope=col>ComCareRef</th><th scope=col>Praise</th><th scope=col>PraiseRef</th><th scope=col>Should</th><th scope=col>ShouldRef</th></tr></thead>\n",
       "<tbody>\n",
       "\t<tr><td>1                                                   </td><td>1                                                   </td><td>Obey traffic lights at an intersection              </td><td>0                                                   </td><td>1                                                   </td><td>8                                                   </td><td>1                                                   </td><td>8                                                   </td><td>9                                                   </td><td>1                                                   </td><td>6                                                   </td><td>1                                                   </td><td>9                                                   </td><td>1                                                   </td></tr>\n",
       "\t<tr><td>1                                                   </td><td>2                                                   </td><td>Obey stop signs at a 4way stop                      </td><td>0                                                   </td><td>4                                                   </td><td>8                                                   </td><td>1                                                   </td><td>1                                                   </td><td>7                                                   </td><td>4                                                   </td><td>8                                                   </td><td>1                                                   </td><td>9                                                   </td><td>1                                                   </td></tr>\n",
       "\t<tr><td>1                                                   </td><td>3                                                   </td><td>Pay taxes on earned income                          </td><td>0                                                   </td><td>1                                                   </td><td>8                                                   </td><td>1                                                   </td><td>8                                                   </td><td>9                                                   </td><td>1                                                   </td><td>4                                                   </td><td>1                                                   </td><td>9                                                   </td><td>1                                                   </td></tr>\n",
       "\t<tr><td>1                                                   </td><td>4                                                   </td><td>Provide basic care for a family pet                 </td><td>0                                                   </td><td>4                                                   </td><td>8                                                   </td><td>3                                                   </td><td>8                                                   </td><td>9                                                   </td><td>1                                                   </td><td>8                                                   </td><td>1                                                   </td><td>9                                                   </td><td>1                                                   </td></tr>\n",
       "\t<tr><td>1                                                   </td><td>5                                                   </td><td>Be loving and caring towards one's kids             </td><td>0                                                   </td><td>1                                                   </td><td>8                                                   </td><td>4                                                   </td><td>8                                                   </td><td>9                                                   </td><td>1                                                   </td><td>9                                                   </td><td>1                                                   </td><td>9                                                   </td><td>1                                                   </td></tr>\n",
       "\t<tr><td>1                                                   </td><td>6                                                   </td><td>Signal when changing lanes in front of other drivers</td><td>1                                                   </td><td>6                                                   </td><td>8                                                   </td><td>1                                                   </td><td>1                                                   </td><td>7                                                   </td><td>3                                                   </td><td>5                                                   </td><td>1                                                   </td><td>9                                                   </td><td>1                                                   </td></tr>\n",
       "</tbody>\n",
       "</table>\n"
      ],
      "text/latex": [
       "\\begin{tabular}{r|llllllllllllll}\n",
       " participant & bx & bx\\_label & category & Blame & BlameRef & Char & CharRef & ComCare & ComCareRef & Praise & PraiseRef & Should & ShouldRef\\\\\n",
       "\\hline\n",
       "\t 1                                                    & 1                                                    & Obey traffic lights at an intersection               & 0                                                    & 1                                                    & 8                                                    & 1                                                    & 8                                                    & 9                                                    & 1                                                    & 6                                                    & 1                                                    & 9                                                    & 1                                                   \\\\\n",
       "\t 1                                                    & 2                                                    & Obey stop signs at a 4way stop                       & 0                                                    & 4                                                    & 8                                                    & 1                                                    & 1                                                    & 7                                                    & 4                                                    & 8                                                    & 1                                                    & 9                                                    & 1                                                   \\\\\n",
       "\t 1                                                    & 3                                                    & Pay taxes on earned income                           & 0                                                    & 1                                                    & 8                                                    & 1                                                    & 8                                                    & 9                                                    & 1                                                    & 4                                                    & 1                                                    & 9                                                    & 1                                                   \\\\\n",
       "\t 1                                                    & 4                                                    & Provide basic care for a family pet                  & 0                                                    & 4                                                    & 8                                                    & 3                                                    & 8                                                    & 9                                                    & 1                                                    & 8                                                    & 1                                                    & 9                                                    & 1                                                   \\\\\n",
       "\t 1                                                    & 5                                                    & Be loving and caring towards one's kids              & 0                                                    & 1                                                    & 8                                                    & 4                                                    & 8                                                    & 9                                                    & 1                                                    & 9                                                    & 1                                                    & 9                                                    & 1                                                   \\\\\n",
       "\t 1                                                    & 6                                                    & Signal when changing lanes in front of other drivers & 1                                                    & 6                                                    & 8                                                    & 1                                                    & 1                                                    & 7                                                    & 3                                                    & 5                                                    & 1                                                    & 9                                                    & 1                                                   \\\\\n",
       "\\end{tabular}\n"
      ],
      "text/markdown": [
       "\n",
       "participant | bx | bx_label | category | Blame | BlameRef | Char | CharRef | ComCare | ComCareRef | Praise | PraiseRef | Should | ShouldRef | \n",
       "|---|---|---|---|---|---|\n",
       "| 1                                                    | 1                                                    | Obey traffic lights at an intersection               | 0                                                    | 1                                                    | 8                                                    | 1                                                    | 8                                                    | 9                                                    | 1                                                    | 6                                                    | 1                                                    | 9                                                    | 1                                                    | \n",
       "| 1                                                    | 2                                                    | Obey stop signs at a 4way stop                       | 0                                                    | 4                                                    | 8                                                    | 1                                                    | 1                                                    | 7                                                    | 4                                                    | 8                                                    | 1                                                    | 9                                                    | 1                                                    | \n",
       "| 1                                                    | 3                                                    | Pay taxes on earned income                           | 0                                                    | 1                                                    | 8                                                    | 1                                                    | 8                                                    | 9                                                    | 1                                                    | 4                                                    | 1                                                    | 9                                                    | 1                                                    | \n",
       "| 1                                                    | 4                                                    | Provide basic care for a family pet                  | 0                                                    | 4                                                    | 8                                                    | 3                                                    | 8                                                    | 9                                                    | 1                                                    | 8                                                    | 1                                                    | 9                                                    | 1                                                    | \n",
       "| 1                                                    | 5                                                    | Be loving and caring towards one's kids              | 0                                                    | 1                                                    | 8                                                    | 4                                                    | 8                                                    | 9                                                    | 1                                                    | 9                                                    | 1                                                    | 9                                                    | 1                                                    | \n",
       "| 1                                                    | 6                                                    | Signal when changing lanes in front of other drivers | 1                                                    | 6                                                    | 8                                                    | 1                                                    | 1                                                    | 7                                                    | 3                                                    | 5                                                    | 1                                                    | 9                                                    | 1                                                    | \n",
       "\n",
       "\n"
      ],
      "text/plain": [
       "  participant bx bx_label                                             category\n",
       "1 1           1  Obey traffic lights at an intersection               0       \n",
       "2 1           2  Obey stop signs at a 4way stop                       0       \n",
       "3 1           3  Pay taxes on earned income                           0       \n",
       "4 1           4  Provide basic care for a family pet                  0       \n",
       "5 1           5  Be loving and caring towards one's kids              0       \n",
       "6 1           6  Signal when changing lanes in front of other drivers 1       \n",
       "  Blame BlameRef Char CharRef ComCare ComCareRef Praise PraiseRef Should\n",
       "1 1     8        1    8       9       1          6      1         9     \n",
       "2 4     8        1    1       7       4          8      1         9     \n",
       "3 1     8        1    8       9       1          4      1         9     \n",
       "4 4     8        3    8       9       1          8      1         9     \n",
       "5 1     8        4    8       9       1          9      1         9     \n",
       "6 6     8        1    1       7       3          5      1         9     \n",
       "  ShouldRef\n",
       "1 1        \n",
       "2 1        \n",
       "3 1        \n",
       "4 1        \n",
       "5 1        \n",
       "6 1        "
      ]
     },
     "metadata": {},
     "output_type": "display_data"
    },
    {
     "name": "stdout",
     "output_type": "stream",
     "text": [
      "Observations: 1,316\n",
      "Variables: 14\n",
      "$ participant <int> 1, 1, 1, 1, 1, 1, 1, 1, 1, 1, 1, 1, 1, 1, 1, 1, 1, 1, 1...\n",
      "$ bx          <int> 1, 2, 3, 4, 5, 6, 7, 8, 9, 10, 11, 12, 13, 14, 15, 16, ...\n",
      "$ bx_label    <fctr> Obey traffic lights at an intersection, Obey stop sign...\n",
      "$ category    <fctr> 0, 0, 0, 0, 0, 1, 0, 2, 2, 2, 2, 2, 2, 3, 1, 1, 1, 1, ...\n",
      "$ Blame       <int> 1, 4, 1, 4, 1, 6, 9, 9, 9, 9, 9, 9, 9, 9, 4, 5, 1, 1, 1...\n",
      "$ BlameRef    <int> 8, 8, 8, 8, 8, 8, 1, 1, 1, 1, 1, 1, 1, 1, 8, 8, 1, 8, 1...\n",
      "$ Char        <int> 1, 1, 1, 3, 4, 1, 9, 9, 9, 9, 9, 9, 9, 9, 1, 9, 4, 9, 9...\n",
      "$ CharRef     <int> 8, 1, 8, 8, 8, 1, 8, 2, 1, 2, 1, 1, 1, 8, 1, 8, NA, 8, ...\n",
      "$ ComCare     <int> 9, 7, 9, 9, 9, 7, 9, 1, 1, 1, 1, 1, 1, 1, 4, 9, 1, 6, 5...\n",
      "$ ComCareRef  <int> 1, 4, 1, 1, 1, 3, 1, 9, 9, 9, 9, 9, 9, 9, 5, 1, 9, 4, 5...\n",
      "$ Praise      <int> 6, 8, 4, 8, 9, 5, 9, 1, 1, 1, 1, 1, 1, 1, 4, 9, 1, 9, 9...\n",
      "$ PraiseRef   <int> 1, 1, 1, 1, 1, 1, 1, 1, 8, 1, 8, 5, 8, 8, 1, 1, 1, 1, 2...\n",
      "$ Should      <int> 9, 9, 9, 9, 9, 9, 9, 1, 1, 1, 1, 1, 1, 1, 9, 9, 4, 9, 9...\n",
      "$ ShouldRef   <int> 1, 1, 1, 1, 1, 1, 1, 8, 8, 8, 8, 8, 8, 8, 1, 1, 4, 1, 1...\n"
     ]
    }
   ],
   "source": [
    "head(current_data)\n",
    "glimpse(current_data)"
   ]
  },
  {
   "cell_type": "code",
   "execution_count": 8,
   "metadata": {},
   "outputs": [
    {
     "data": {
      "text/plain": [
       "   Min. 1st Qu.  Median    Mean 3rd Qu.    Max. \n",
       "   1.00    7.75   14.50   14.50   21.25   28.00 "
      ]
     },
     "metadata": {},
     "output_type": "display_data"
    }
   ],
   "source": [
    "summary(current_data$bx)"
   ]
  },
  {
   "cell_type": "code",
   "execution_count": 15,
   "metadata": {},
   "outputs": [
    {
     "name": "stdout",
     "output_type": "stream",
     "text": [
      "# A tibble: 6 x 2\n",
      "  category blame\n",
      "  <fctr>   <dbl>\n",
      "1 \"\"        4.67\n",
      "2 0         1.32\n",
      "3 1         1.51\n",
      "4 2         8.34\n",
      "5 3         5.31\n",
      "6 4         4.49\n"
     ]
    },
    {
     "data": {},
     "metadata": {},
     "output_type": "display_data"
    },
    {
     "data": {
      "image/png": "[encoded data removed]",
      "text/plain": [
       "plot without title"
      ]
     },
     "metadata": {},
     "output_type": "display_data"
    }
   ],
   "source": [
    "options(repr.plot.width = 5, repr.plot.height = 4)\n",
    "current_data %>% \n",
    "group_by(category) %>% \n",
    "summarize(blame = mean(Blame, na.rm= TRUE)) %>% \n",
    "print() %>% \n",
    "\n",
    "ggplot(aes(x = category, y = blame)) + geom_bar(stat = 'identity')"
   ]
  },
  {
   "cell_type": "code",
   "execution_count": 16,
   "metadata": {},
   "outputs": [
    {
     "data": {
      "image/png": "[encoded data removed]",
      "text/plain": [
       "Plot with title \"Histogram of current_data$Blame\""
      ]
     },
     "metadata": {},
     "output_type": "display_data"
    }
   ],
   "source": [
    "hist(current_data$Blame)"
   ]
  },
  {
   "cell_type": "code",
   "execution_count": 17,
   "metadata": {},
   "outputs": [
    {
     "data": {
      "text/html": [
       "<table>\n",
       "<thead><tr><th scope=col>participant</th><th scope=col>bx</th><th scope=col>bx_label</th><th scope=col>category</th><th scope=col>Blame</th><th scope=col>BlameRef</th><th scope=col>Char</th><th scope=col>CharRef</th><th scope=col>ComCare</th><th scope=col>ComCareRef</th><th scope=col>Praise</th><th scope=col>PraiseRef</th><th scope=col>Should</th><th scope=col>ShouldRef</th></tr></thead>\n",
       "<tbody>\n",
       "\t<tr><td>1                                                   </td><td>1                                                   </td><td>Obey traffic lights at an intersection              </td><td>0                                                   </td><td>1                                                   </td><td>8                                                   </td><td>1                                                   </td><td>8                                                   </td><td>9                                                   </td><td>1                                                   </td><td>6                                                   </td><td>1                                                   </td><td>9                                                   </td><td>1                                                   </td></tr>\n",
       "\t<tr><td>1                                                   </td><td>2                                                   </td><td>Obey stop signs at a 4way stop                      </td><td>0                                                   </td><td>4                                                   </td><td>8                                                   </td><td>1                                                   </td><td>1                                                   </td><td>7                                                   </td><td>4                                                   </td><td>8                                                   </td><td>1                                                   </td><td>9                                                   </td><td>1                                                   </td></tr>\n",
       "\t<tr><td>1                                                   </td><td>3                                                   </td><td>Pay taxes on earned income                          </td><td>0                                                   </td><td>1                                                   </td><td>8                                                   </td><td>1                                                   </td><td>8                                                   </td><td>9                                                   </td><td>1                                                   </td><td>4                                                   </td><td>1                                                   </td><td>9                                                   </td><td>1                                                   </td></tr>\n",
       "\t<tr><td>1                                                   </td><td>4                                                   </td><td>Provide basic care for a family pet                 </td><td>0                                                   </td><td>4                                                   </td><td>8                                                   </td><td>3                                                   </td><td>8                                                   </td><td>9                                                   </td><td>1                                                   </td><td>8                                                   </td><td>1                                                   </td><td>9                                                   </td><td>1                                                   </td></tr>\n",
       "\t<tr><td>1                                                   </td><td>5                                                   </td><td>Be loving and caring towards one's kids             </td><td>0                                                   </td><td>1                                                   </td><td>8                                                   </td><td>4                                                   </td><td>8                                                   </td><td>9                                                   </td><td>1                                                   </td><td>9                                                   </td><td>1                                                   </td><td>9                                                   </td><td>1                                                   </td></tr>\n",
       "\t<tr><td>1                                                   </td><td>6                                                   </td><td>Signal when changing lanes in front of other drivers</td><td>1                                                   </td><td>6                                                   </td><td>8                                                   </td><td>1                                                   </td><td>1                                                   </td><td>7                                                   </td><td>3                                                   </td><td>5                                                   </td><td>1                                                   </td><td>9                                                   </td><td>1                                                   </td></tr>\n",
       "</tbody>\n",
       "</table>\n"
      ],
      "text/latex": [
       "\\begin{tabular}{r|llllllllllllll}\n",
       " participant & bx & bx\\_label & category & Blame & BlameRef & Char & CharRef & ComCare & ComCareRef & Praise & PraiseRef & Should & ShouldRef\\\\\n",
       "\\hline\n",
       "\t 1                                                    & 1                                                    & Obey traffic lights at an intersection               & 0                                                    & 1                                                    & 8                                                    & 1                                                    & 8                                                    & 9                                                    & 1                                                    & 6                                                    & 1                                                    & 9                                                    & 1                                                   \\\\\n",
       "\t 1                                                    & 2                                                    & Obey stop signs at a 4way stop                       & 0                                                    & 4                                                    & 8                                                    & 1                                                    & 1                                                    & 7                                                    & 4                                                    & 8                                                    & 1                                                    & 9                                                    & 1                                                   \\\\\n",
       "\t 1                                                    & 3                                                    & Pay taxes on earned income                           & 0                                                    & 1                                                    & 8                                                    & 1                                                    & 8                                                    & 9                                                    & 1                                                    & 4                                                    & 1                                                    & 9                                                    & 1                                                   \\\\\n",
       "\t 1                                                    & 4                                                    & Provide basic care for a family pet                  & 0                                                    & 4                                                    & 8                                                    & 3                                                    & 8                                                    & 9                                                    & 1                                                    & 8                                                    & 1                                                    & 9                                                    & 1                                                   \\\\\n",
       "\t 1                                                    & 5                                                    & Be loving and caring towards one's kids              & 0                                                    & 1                                                    & 8                                                    & 4                                                    & 8                                                    & 9                                                    & 1                                                    & 9                                                    & 1                                                    & 9                                                    & 1                                                   \\\\\n",
       "\t 1                                                    & 6                                                    & Signal when changing lanes in front of other drivers & 1                                                    & 6                                                    & 8                                                    & 1                                                    & 1                                                    & 7                                                    & 3                                                    & 5                                                    & 1                                                    & 9                                                    & 1                                                   \\\\\n",
       "\\end{tabular}\n"
      ],
      "text/markdown": [
       "\n",
       "participant | bx | bx_label | category | Blame | BlameRef | Char | CharRef | ComCare | ComCareRef | Praise | PraiseRef | Should | ShouldRef | \n",
       "|---|---|---|---|---|---|\n",
       "| 1                                                    | 1                                                    | Obey traffic lights at an intersection               | 0                                                    | 1                                                    | 8                                                    | 1                                                    | 8                                                    | 9                                                    | 1                                                    | 6                                                    | 1                                                    | 9                                                    | 1                                                    | \n",
       "| 1                                                    | 2                                                    | Obey stop signs at a 4way stop                       | 0                                                    | 4                                                    | 8                                                    | 1                                                    | 1                                                    | 7                                                    | 4                                                    | 8                                                    | 1                                                    | 9                                                    | 1                                                    | \n",
       "| 1                                                    | 3                                                    | Pay taxes on earned income                           | 0                                                    | 1                                                    | 8                                                    | 1                                                    | 8                                                    | 9                                                    | 1                                                    | 4                                                    | 1                                                    | 9                                                    | 1                                                    | \n",
       "| 1                                                    | 4                                                    | Provide basic care for a family pet                  | 0                                                    | 4                                                    | 8                                                    | 3                                                    | 8                                                    | 9                                                    | 1                                                    | 8                                                    | 1                                                    | 9                                                    | 1                                                    | \n",
       "| 1                                                    | 5                                                    | Be loving and caring towards one's kids              | 0                                                    | 1                                                    | 8                                                    | 4                                                    | 8                                                    | 9                                                    | 1                                                    | 9                                                    | 1                                                    | 9                                                    | 1                                                    | \n",
       "| 1                                                    | 6                                                    | Signal when changing lanes in front of other drivers | 1                                                    | 6                                                    | 8                                                    | 1                                                    | 1                                                    | 7                                                    | 3                                                    | 5                                                    | 1                                                    | 9                                                    | 1                                                    | \n",
       "\n",
       "\n"
      ],
      "text/plain": [
       "  participant bx bx_label                                             category\n",
       "1 1           1  Obey traffic lights at an intersection               0       \n",
       "2 1           2  Obey stop signs at a 4way stop                       0       \n",
       "3 1           3  Pay taxes on earned income                           0       \n",
       "4 1           4  Provide basic care for a family pet                  0       \n",
       "5 1           5  Be loving and caring towards one's kids              0       \n",
       "6 1           6  Signal when changing lanes in front of other drivers 1       \n",
       "  Blame BlameRef Char CharRef ComCare ComCareRef Praise PraiseRef Should\n",
       "1 1     8        1    8       9       1          6      1         9     \n",
       "2 4     8        1    1       7       4          8      1         9     \n",
       "3 1     8        1    8       9       1          4      1         9     \n",
       "4 4     8        3    8       9       1          8      1         9     \n",
       "5 1     8        4    8       9       1          9      1         9     \n",
       "6 6     8        1    1       7       3          5      1         9     \n",
       "  ShouldRef\n",
       "1 1        \n",
       "2 1        \n",
       "3 1        \n",
       "4 1        \n",
       "5 1        \n",
       "6 1        "
      ]
     },
     "metadata": {},
     "output_type": "display_data"
    }
   ],
   "source": [
    "head(current_data)"
   ]
  },
  {
   "cell_type": "code",
   "execution_count": 19,
   "metadata": {},
   "outputs": [
    {
     "name": "stdout",
     "output_type": "stream",
     "text": [
      "'data.frame':\t1316 obs. of  14 variables:\n",
      " $ participant: int  1 1 1 1 1 1 1 1 1 1 ...\n",
      " $ bx         : Factor w/ 28 levels \"1\",\"2\",\"3\",\"4\",..: 1 2 3 4 5 6 7 8 9 10 ...\n",
      " $ bx_label   : Factor w/ 28 levels \"Be loving and caring towards one's kids\",..: 17 16 19 20 1 24 2 14 23 11 ...\n",
      " $ category   : Factor w/ 6 levels \"\",\"0\",\"1\",\"2\",..: 2 2 2 2 2 3 2 4 4 4 ...\n",
      " $ Blame      : int  1 4 1 4 1 6 9 9 9 9 ...\n",
      " $ BlameRef   : int  8 8 8 8 8 8 1 1 1 1 ...\n",
      " $ Char       : int  1 1 1 3 4 1 9 9 9 9 ...\n",
      " $ CharRef    : int  8 1 8 8 8 1 8 2 1 2 ...\n",
      " $ ComCare    : int  9 7 9 9 9 7 9 1 1 1 ...\n",
      " $ ComCareRef : int  1 4 1 1 1 3 1 9 9 9 ...\n",
      " $ Praise     : int  6 8 4 8 9 5 9 1 1 1 ...\n",
      " $ PraiseRef  : int  1 1 1 1 1 1 1 1 8 1 ...\n",
      " $ Should     : int  9 9 9 9 9 9 9 1 1 1 ...\n",
      " $ ShouldRef  : int  1 1 1 1 1 1 1 8 8 8 ...\n"
     ]
    }
   ],
   "source": [
    "current_data <- current_data %>% \n",
    "mutate(bx = factor(bx))\n",
    "str(current_data)"
   ]
  },
  {
   "cell_type": "code",
   "execution_count": 20,
   "metadata": {},
   "outputs": [],
   "source": [
    "help(lmer)"
   ]
  },
  {
   "cell_type": "code",
   "execution_count": 22,
   "metadata": {},
   "outputs": [
    {
     "ename": "ERROR",
     "evalue": "Error in colMeans(x, na.rm = TRUE): 'x' must be numeric\n",
     "output_type": "error",
     "traceback": [
      "Error in colMeans(x, na.rm = TRUE): 'x' must be numeric\nTraceback:\n",
      "1. summary(scale(current_data$bx))",
      "2. scale(current_data$bx)",
      "3. scale.default(current_data$bx)",
      "4. colMeans(x, na.rm = TRUE)"
     ]
    }
   ],
   "source": [
    "summary(scale(current_data$bx))"
   ]
  },
  {
   "cell_type": "code",
   "execution_count": 25,
   "metadata": {},
   "outputs": [
    {
     "name": "stderr",
     "output_type": "stream",
     "text": [
      "Warning message in checkConv(attr(opt, \"derivs\"), opt$par, ctrl = control$checkConv, :\n",
      "\"Model is nearly unidentifiable: large eigenvalue ratio\n",
      " - Rescale variables?\""
     ]
    }
   ],
   "source": [
    "m1 <- lmer(Blame ~ factor(category) + (1 + factor(category) | participant), data = current_data)"
   ]
  },
  {
   "cell_type": "code",
   "execution_count": 26,
   "metadata": {},
   "outputs": [
    {
     "data": {
      "text/plain": [
       "Linear mixed model fit by REML ['lmerMod']\n",
       "Formula: Blame ~ factor(category) + (1 + factor(category) | participant)\n",
       "   Data: current_data\n",
       "\n",
       "REML criterion at convergence: 5937.4\n",
       "\n",
       "Scaled residuals: \n",
       "    Min      1Q  Median      3Q     Max \n",
       "-3.0818 -0.5151 -0.0914  0.3717  3.2079 \n",
       "\n",
       "Random effects:\n",
       " Groups      Name              Variance Std.Dev. Corr                         \n",
       " participant (Intercept)       1.5605   1.2492                                \n",
       "             factor(category)0 0.8140   0.9022   -1.00                        \n",
       "             factor(category)1 0.7732   0.8793   -0.99  0.99                  \n",
       "             factor(category)2 1.3252   1.1512   -0.97  0.97  0.99            \n",
       "             factor(category)3 2.5256   1.5892   -0.73  0.72  0.81  0.87      \n",
       "             factor(category)4 1.2109   1.1004    0.23 -0.21 -0.34 -0.45 -0.83\n",
       " Residual                      5.1893   2.2780                                \n",
       "Number of obs: 1305, groups:  participant, 47\n",
       "\n",
       "Fixed effects:\n",
       "                  Estimate Std. Error t value\n",
       "(Intercept)         4.6535     0.3033  15.343\n",
       "factor(category)0  -3.3382     0.3553  -9.394\n",
       "factor(category)1  -3.1529     0.3508  -8.987\n",
       "factor(category)2   3.6949     0.3459  10.682\n",
       "factor(category)3   0.5975     0.4104   1.456\n",
       "factor(category)4  -0.4427     0.6632  -0.668\n",
       "\n",
       "Correlation of Fixed Effects:\n",
       "            (Intr) fct()0 fct()1 fct()2 fct()3\n",
       "fctr(ctgr)0 -0.854                            \n",
       "fctr(ctgr)1 -0.865  0.774                     \n",
       "fctr(ctgr)2 -0.877  0.760  0.781              \n",
       "fctr(ctgr)3 -0.739  0.632  0.674  0.724       \n",
       "fctr(ctgr)4 -0.457  0.467  0.466  0.386  0.205\n",
       "convergence code: 0\n",
       "Model is nearly unidentifiable: large eigenvalue ratio\n",
       " - Rescale variables?\n"
      ]
     },
     "metadata": {},
     "output_type": "display_data"
    }
   ],
   "source": [
    "summary(m1)"
   ]
  }
 ],
 "metadata": {
  "kernelspec": {
   "display_name": "R",
   "language": "R",
   "name": "ir"
  },
  "language_info": {
   "codemirror_mode": "r",
   "file_extension": ".r",
   "mimetype": "text/x-r-source",
   "name": "R",
   "pygments_lexer": "r",
   "version": "3.4.3"
  }
 },
 "nbformat": 4,
 "nbformat_minor": 2
}
