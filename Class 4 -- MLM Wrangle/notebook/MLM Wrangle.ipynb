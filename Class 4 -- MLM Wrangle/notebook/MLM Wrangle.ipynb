{
 "cells": [
  {
   "cell_type": "markdown",
   "metadata": {},
   "source": [
    "## Multi-Level Models in R\n",
    "This notebook is dedicated to walking through how to run and interpret multi-level models in R."
   ]
  },
  {
   "cell_type": "code",
   "execution_count": 2,
   "metadata": {},
   "outputs": [],
   "source": [
    "library(tidyverse)\n",
    "library(data.table)\n",
    "library(lme4)"
   ]
  },
  {
   "cell_type": "code",
   "execution_count": 3,
   "metadata": {},
   "outputs": [],
   "source": [
    "current_data <- fread('../data/mlm_data_natasha_nick.csv')"
   ]
  },
  {
   "cell_type": "code",
   "execution_count": 4,
   "metadata": {},
   "outputs": [
    {
     "data": {
      "text/html": [
       "<table>\n",
       "<thead><tr><th scope=col>participant</th><th scope=col>bx</th><th scope=col>bx_label</th><th scope=col>category</th><th scope=col>Blame</th><th scope=col>BlameRef</th><th scope=col>Char</th><th scope=col>CharRef</th><th scope=col>ComCare</th><th scope=col>ComCareRef</th><th scope=col>Praise</th><th scope=col>PraiseRef</th><th scope=col>Should</th><th scope=col>ShouldRef</th></tr></thead>\n",
       "<tbody>\n",
       "\t<tr><td>1                                                   </td><td>1                                                   </td><td>Obey traffic lights at an intersection              </td><td>0                                                   </td><td>1                                                   </td><td>8                                                   </td><td>1                                                   </td><td>8                                                   </td><td>9                                                   </td><td>1                                                   </td><td>6                                                   </td><td>1                                                   </td><td>9                                                   </td><td>1                                                   </td></tr>\n",
       "\t<tr><td>1                                                   </td><td>2                                                   </td><td>Obey stop signs at a 4way stop                      </td><td>0                                                   </td><td>4                                                   </td><td>8                                                   </td><td>1                                                   </td><td>1                                                   </td><td>7                                                   </td><td>4                                                   </td><td>8                                                   </td><td>1                                                   </td><td>9                                                   </td><td>1                                                   </td></tr>\n",
       "\t<tr><td>1                                                   </td><td>3                                                   </td><td>Pay taxes on earned income                          </td><td>0                                                   </td><td>1                                                   </td><td>8                                                   </td><td>1                                                   </td><td>8                                                   </td><td>9                                                   </td><td>1                                                   </td><td>4                                                   </td><td>1                                                   </td><td>9                                                   </td><td>1                                                   </td></tr>\n",
       "\t<tr><td>1                                                   </td><td>4                                                   </td><td>Provide basic care for a family pet                 </td><td>0                                                   </td><td>4                                                   </td><td>8                                                   </td><td>3                                                   </td><td>8                                                   </td><td>9                                                   </td><td>1                                                   </td><td>8                                                   </td><td>1                                                   </td><td>9                                                   </td><td>1                                                   </td></tr>\n",
       "\t<tr><td>1                                                   </td><td>5                                                   </td><td>Be loving and caring towards one's kids             </td><td>0                                                   </td><td>1                                                   </td><td>8                                                   </td><td>4                                                   </td><td>8                                                   </td><td>9                                                   </td><td>1                                                   </td><td>9                                                   </td><td>1                                                   </td><td>9                                                   </td><td>1                                                   </td></tr>\n",
       "\t<tr><td>1                                                   </td><td>6                                                   </td><td>Signal when changing lanes in front of other drivers</td><td>1                                                   </td><td>6                                                   </td><td>8                                                   </td><td>1                                                   </td><td>1                                                   </td><td>7                                                   </td><td>3                                                   </td><td>5                                                   </td><td>1                                                   </td><td>9                                                   </td><td>1                                                   </td></tr>\n",
       "</tbody>\n",
       "</table>\n"
      ],
      "text/latex": [
       "\\begin{tabular}{r|llllllllllllll}\n",
       " participant & bx & bx\\_label & category & Blame & BlameRef & Char & CharRef & ComCare & ComCareRef & Praise & PraiseRef & Should & ShouldRef\\\\\n",
       "\\hline\n",
       "\t 1                                                    & 1                                                    & Obey traffic lights at an intersection               & 0                                                    & 1                                                    & 8                                                    & 1                                                    & 8                                                    & 9                                                    & 1                                                    & 6                                                    & 1                                                    & 9                                                    & 1                                                   \\\\\n",
       "\t 1                                                    & 2                                                    & Obey stop signs at a 4way stop                       & 0                                                    & 4                                                    & 8                                                    & 1                                                    & 1                                                    & 7                                                    & 4                                                    & 8                                                    & 1                                                    & 9                                                    & 1                                                   \\\\\n",
       "\t 1                                                    & 3                                                    & Pay taxes on earned income                           & 0                                                    & 1                                                    & 8                                                    & 1                                                    & 8                                                    & 9                                                    & 1                                                    & 4                                                    & 1                                                    & 9                                                    & 1                                                   \\\\\n",
       "\t 1                                                    & 4                                                    & Provide basic care for a family pet                  & 0                                                    & 4                                                    & 8                                                    & 3                                                    & 8                                                    & 9                                                    & 1                                                    & 8                                                    & 1                                                    & 9                                                    & 1                                                   \\\\\n",
       "\t 1                                                    & 5                                                    & Be loving and caring towards one's kids              & 0                                                    & 1                                                    & 8                                                    & 4                                                    & 8                                                    & 9                                                    & 1                                                    & 9                                                    & 1                                                    & 9                                                    & 1                                                   \\\\\n",
       "\t 1                                                    & 6                                                    & Signal when changing lanes in front of other drivers & 1                                                    & 6                                                    & 8                                                    & 1                                                    & 1                                                    & 7                                                    & 3                                                    & 5                                                    & 1                                                    & 9                                                    & 1                                                   \\\\\n",
       "\\end{tabular}\n"
      ],
      "text/markdown": [
       "\n",
       "participant | bx | bx_label | category | Blame | BlameRef | Char | CharRef | ComCare | ComCareRef | Praise | PraiseRef | Should | ShouldRef | \n",
       "|---|---|---|---|---|---|\n",
       "| 1                                                    | 1                                                    | Obey traffic lights at an intersection               | 0                                                    | 1                                                    | 8                                                    | 1                                                    | 8                                                    | 9                                                    | 1                                                    | 6                                                    | 1                                                    | 9                                                    | 1                                                    | \n",
       "| 1                                                    | 2                                                    | Obey stop signs at a 4way stop                       | 0                                                    | 4                                                    | 8                                                    | 1                                                    | 1                                                    | 7                                                    | 4                                                    | 8                                                    | 1                                                    | 9                                                    | 1                                                    | \n",
       "| 1                                                    | 3                                                    | Pay taxes on earned income                           | 0                                                    | 1                                                    | 8                                                    | 1                                                    | 8                                                    | 9                                                    | 1                                                    | 4                                                    | 1                                                    | 9                                                    | 1                                                    | \n",
       "| 1                                                    | 4                                                    | Provide basic care for a family pet                  | 0                                                    | 4                                                    | 8                                                    | 3                                                    | 8                                                    | 9                                                    | 1                                                    | 8                                                    | 1                                                    | 9                                                    | 1                                                    | \n",
       "| 1                                                    | 5                                                    | Be loving and caring towards one's kids              | 0                                                    | 1                                                    | 8                                                    | 4                                                    | 8                                                    | 9                                                    | 1                                                    | 9                                                    | 1                                                    | 9                                                    | 1                                                    | \n",
       "| 1                                                    | 6                                                    | Signal when changing lanes in front of other drivers | 1                                                    | 6                                                    | 8                                                    | 1                                                    | 1                                                    | 7                                                    | 3                                                    | 5                                                    | 1                                                    | 9                                                    | 1                                                    | \n",
       "\n",
       "\n"
      ],
      "text/plain": [
       "  participant bx bx_label                                             category\n",
       "1 1           1  Obey traffic lights at an intersection               0       \n",
       "2 1           2  Obey stop signs at a 4way stop                       0       \n",
       "3 1           3  Pay taxes on earned income                           0       \n",
       "4 1           4  Provide basic care for a family pet                  0       \n",
       "5 1           5  Be loving and caring towards one's kids              0       \n",
       "6 1           6  Signal when changing lanes in front of other drivers 1       \n",
       "  Blame BlameRef Char CharRef ComCare ComCareRef Praise PraiseRef Should\n",
       "1 1     8        1    8       9       1          6      1         9     \n",
       "2 4     8        1    1       7       4          8      1         9     \n",
       "3 1     8        1    8       9       1          4      1         9     \n",
       "4 4     8        3    8       9       1          8      1         9     \n",
       "5 1     8        4    8       9       1          9      1         9     \n",
       "6 6     8        1    1       7       3          5      1         9     \n",
       "  ShouldRef\n",
       "1 1        \n",
       "2 1        \n",
       "3 1        \n",
       "4 1        \n",
       "5 1        \n",
       "6 1        "
      ]
     },
     "metadata": {},
     "output_type": "display_data"
    },
    {
     "name": "stdout",
     "output_type": "stream",
     "text": [
      "Observations: 1,316\n",
      "Variables: 14\n",
      "$ participant <int> 1, 1, 1, 1, 1, 1, 1, 1, 1, 1, 1, 1, 1, 1, 1, 1, 1, 1, 1...\n",
      "$ bx          <int> 1, 2, 3, 4, 5, 6, 7, 8, 9, 10, 11, 12, 13, 14, 15, 16, ...\n",
      "$ bx_label    <chr> \"Obey traffic lights at an intersection\", \"Obey stop si...\n",
      "$ category    <chr> \"0\", \"0\", \"0\", \"0\", \"0\", \"1\", \"0\", \"2\", \"2\", \"2\", \"2\", ...\n",
      "$ Blame       <int> 1, 4, 1, 4, 1, 6, 9, 9, 9, 9, 9, 9, 9, 9, 4, 5, 1, 1, 1...\n",
      "$ BlameRef    <int> 8, 8, 8, 8, 8, 8, 1, 1, 1, 1, 1, 1, 1, 1, 8, 8, 1, 8, 1...\n",
      "$ Char        <int> 1, 1, 1, 3, 4, 1, 9, 9, 9, 9, 9, 9, 9, 9, 1, 9, 4, 9, 9...\n",
      "$ CharRef     <int> 8, 1, 8, 8, 8, 1, 8, 2, 1, 2, 1, 1, 1, 8, 1, 8, NA, 8, ...\n",
      "$ ComCare     <int> 9, 7, 9, 9, 9, 7, 9, 1, 1, 1, 1, 1, 1, 1, 4, 9, 1, 6, 5...\n",
      "$ ComCareRef  <int> 1, 4, 1, 1, 1, 3, 1, 9, 9, 9, 9, 9, 9, 9, 5, 1, 9, 4, 5...\n",
      "$ Praise      <int> 6, 8, 4, 8, 9, 5, 9, 1, 1, 1, 1, 1, 1, 1, 4, 9, 1, 9, 9...\n",
      "$ PraiseRef   <int> 1, 1, 1, 1, 1, 1, 1, 1, 8, 1, 8, 5, 8, 8, 1, 1, 1, 1, 2...\n",
      "$ Should      <int> 9, 9, 9, 9, 9, 9, 9, 1, 1, 1, 1, 1, 1, 1, 9, 9, 4, 9, 9...\n",
      "$ ShouldRef   <int> 1, 1, 1, 1, 1, 1, 1, 8, 8, 8, 8, 8, 8, 8, 1, 1, 4, 1, 1...\n"
     ]
    }
   ],
   "source": [
    "head(current_data)\n",
    "glimpse(current_data)"
   ]
  },
  {
   "cell_type": "code",
   "execution_count": null,
   "metadata": {},
   "outputs": [],
   "source": []
  }
 ],
 "metadata": {
  "kernelspec": {
   "display_name": "R",
   "language": "R",
   "name": "ir"
  },
  "language_info": {
   "codemirror_mode": "r",
   "file_extension": ".r",
   "mimetype": "text/x-r-source",
   "name": "R",
   "pygments_lexer": "r",
   "version": "3.4.3"
  }
 },
 "nbformat": 4,
 "nbformat_minor": 2
}
