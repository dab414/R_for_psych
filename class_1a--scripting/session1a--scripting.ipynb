{
 "cells": [
  {
   "cell_type": "markdown",
   "metadata": {},
   "source": [
    "# Scripting in R\n",
    "My intention is to cover some of the basics of scripting in R, which will help you deal with assignments in 421. These are techniques that are generally not immediately necessary for analyzing data in R--but even learning this scripting stuff will likely make you generally more proficient in R, even for data analysis."
   ]
  },
  {
   "cell_type": "markdown",
   "metadata": {},
   "source": [
    "### If / Else"
   ]
  },
  {
   "cell_type": "markdown",
   "metadata": {},
   "source": [
    "This is probably the most basic of the scripting techniques (and is one that will *sort of* come into play when analyzing data). The basic syntax is as follows:\n",
    "\n",
    "```\n",
    "if (TRUE) {\n",
    "    (code to be executed)\n",
    "} else {\n",
    "    (code to be executed)\n",
    "}\n",
    "```\n",
    "The curly braces are what is most important for organizing the code (the indenting doesn't matter). The crucial key here is the code inside the parentheses next to the `if` statement. This code needs to reduce to either `TRUE` or `FALSE` (ie, a boolean). Last week we talked about a bunch of ways to generate TRUEs and FALSEs, but an if statement needs to process just *one* TRUE or FALSE return. What happens if you give an `if` statement more than one boolean? Well:"
   ]
  },
  {
   "cell_type": "code",
   "execution_count": null,
   "metadata": {},
   "outputs": [],
   "source": [
    "if (c(TRUE, TRUE)) {\n",
    "    print('Woo')\n",
    "}"
   ]
  },
  {
   "cell_type": "markdown",
   "metadata": {},
   "source": [
    "Notice using the `else` after the `if` is *not* necessary. It's only necessary in the event that I want to execute some code in the event that the `if` statement returns `FALSE`.\n",
    "\n",
    "What do you think will be returned in the following examples?"
   ]
  },
  {
   "cell_type": "code",
   "execution_count": null,
   "metadata": {},
   "outputs": [],
   "source": [
    "if (2 + 3 == 5){\n",
    "    print('Good')\n",
    "} else {\n",
    "    print('Bad')\n",
    "}"
   ]
  },
  {
   "cell_type": "code",
   "execution_count": null,
   "metadata": {},
   "outputs": [],
   "source": [
    "x <- 5\n",
    "if (x == 5) print('Good') else print('Bad')"
   ]
  },
  {
   "cell_type": "code",
   "execution_count": null,
   "metadata": {},
   "outputs": [],
   "source": [
    "x <- c(0,1,2,2,3)\n",
    "\n",
    "if (sum(x) > 3) {\n",
    "    print('Good')\n",
    "} else print('Bad')"
   ]
  },
  {
   "cell_type": "code",
   "execution_count": null,
   "metadata": {},
   "outputs": [],
   "source": [
    "x <- c(0,1,2,2,3)\n",
    "\n",
    "if (x > 3) {\n",
    "    print('Good')\n",
    "} else print('Bad')"
   ]
  },
  {
   "cell_type": "code",
   "execution_count": null,
   "metadata": {},
   "outputs": [],
   "source": [
    "if (x[1] > -1 & x[3] == 2){\n",
    "    print('Good')\n",
    "} else print('Bad')"
   ]
  },
  {
   "cell_type": "code",
   "execution_count": null,
   "metadata": {},
   "outputs": [],
   "source": [
    "if (x[1] == 1){\n",
    "    print('Condition 1 Met')\n",
    "} else if (x[3] == 2) {\n",
    "    print('Condition 2 Met')\n",
    "} else if (x[4] == 2) {\n",
    "    print('Condition 3 Met')\n",
    "} else print('Everything Failed')"
   ]
  },
  {
   "cell_type": "markdown",
   "metadata": {},
   "source": [
    "In the example above, \"conditions\" 2 and 3 are both met, how come only condition 2 prints?  \n",
    "Comare to code below:"
   ]
  },
  {
   "cell_type": "code",
   "execution_count": null,
   "metadata": {},
   "outputs": [],
   "source": [
    "if (x[1] == 1){\n",
    "    print('Condition 1 Met')\n",
    "} else if (x[3] == 2) {\n",
    "    print('Condition 2 Met')\n",
    "}\n",
    "if (x[4] == 2) {\n",
    "    print('Condition 3 Met')\n",
    "} else print('Everything Failed')"
   ]
  },
  {
   "cell_type": "markdown",
   "metadata": {},
   "source": [
    "### Loops\n",
    "Loops can be tricky. Let me demonstrate an easy one first, the `while` loop:"
   ]
  },
  {
   "cell_type": "code",
   "execution_count": null,
   "metadata": {},
   "outputs": [],
   "source": [
    "x <- 1\n",
    "while (x < 6) {\n",
    "    x = x + 1\n",
    "    print(x)\n",
    "    print(x < 6)\n",
    "}"
   ]
  },
  {
   "cell_type": "markdown",
   "metadata": {},
   "source": [
    "The logic here is:\n",
    "```\n",
    "while (some condition remains true) {\n",
    "    keep doing all of this\n",
    "}\n",
    "```\n",
    "Everything within the curly braces will be executed continually as long as the expression within the parentheses reduces to `TRUE`."
   ]
  },
  {
   "cell_type": "markdown",
   "metadata": {},
   "source": [
    "**For Loop**  \n",
    "The for loop relies on the same logic except, instead of continually evaluating a boolean expression, it's executing code a set number of times. The way that the number of executions is defined can be tricky. The basic structure is:\n",
    "\n",
    "```\n",
    "for (iterator in iterable_object){\n",
    "    keep doing all of this\n",
    "    stop once you've reached the end of iterable object\n",
    "}\n",
    "```\n",
    "The variable `iterator` takes on the value of each level of the `iterable_object` as the script is executed. Let's do an example you're probably already familiar with from 421."
   ]
  },
  {
   "cell_type": "code",
   "execution_count": null,
   "metadata": {},
   "outputs": [],
   "source": [
    "for (i in 1:5){\n",
    "    print(i)\n",
    "}"
   ]
  },
  {
   "cell_type": "markdown",
   "metadata": {},
   "source": [
    "In this case, `i` is just a variable that takes on the values 1 through 5. We could've named `i` anything. Remember what I said last week about the colon `:` notation, it's just *one* way of quickly defining a vector. A vector is the most common type of `iterable_object`, it's something that you can go over each of the levels of. We could've written that loop in either of these two ways:"
   ]
  },
  {
   "cell_type": "code",
   "execution_count": null,
   "metadata": {},
   "outputs": [],
   "source": [
    "for (i in c(1,2,3,4,5)){\n",
    "    print(i)\n",
    "}"
   ]
  },
  {
   "cell_type": "code",
   "execution_count": null,
   "metadata": {
    "scrolled": true
   },
   "outputs": [],
   "source": [
    "x <- 1:5\n",
    "for (i in x){\n",
    "    print(i)\n",
    "}"
   ]
  },
  {
   "cell_type": "markdown",
   "metadata": {},
   "source": [
    "But realize you can extend this logic to *any* vector:"
   ]
  },
  {
   "cell_type": "code",
   "execution_count": null,
   "metadata": {},
   "outputs": [],
   "source": [
    "fruits <- c('apple','pear','orange','pineapple')\n",
    "\n",
    "for (fruit in fruits){\n",
    "    print(fruit)\n",
    "}"
   ]
  },
  {
   "cell_type": "markdown",
   "metadata": {},
   "source": [
    "You can get even more tricky and nest for loops inside for loops. Let's say I wanted to print the multiples of 2, 3, and 4:"
   ]
  },
  {
   "cell_type": "code",
   "execution_count": null,
   "metadata": {},
   "outputs": [],
   "source": [
    "numbers <- c(2,3,4)\n",
    "\n",
    "for (number in numbers) {\n",
    "    print(number)\n",
    "    for (i in 1:5){\n",
    "        print(paste(number, 'times', i, 'equals:', i*number))\n",
    "    }\n",
    "}"
   ]
  },
  {
   "cell_type": "markdown",
   "metadata": {},
   "source": [
    "It's often the case that you'll want to store the output from each loop iteration into an object so that you can clearly see and work with the results of your `for` loop. The way this works is that you need to create something (an object) to store all the output in *before* the loop begins. You *can't* create this object as you go through the loop, it has to be set up beforehand.\n",
    "\n",
    "Think of the `for` loop like it's sort of like leaving a faucet of water running for a set period of time. Each second the faucet is running, there's a certain amount of water that comes out of it. If we want to store all of this water so we can drink it, we need to use a cup that's large enough to contain all the water. (Yes, usually you just turn off the faucet when the cup fills up, but let's pretend that here you're \"locked\" into keeping the faucet on for a set period of time). You need to use a cup that's at least as large as all the water that will come out of the faucet for that set period of time, otherwise the cup will overflow and you'll lose water.\n",
    "\n",
    "You need to tell R to create a data object that's large enough to store all the output from the `for` loop that you want to save. Then, on each iteration of the loop, we need to specify where in the object that output will go. This can be any object type (I'm pretty sure Chris shows you how to do it with arrays), I'll demonstrate with a vector.\n",
    "\n",
    "Let's go back to the fruit example. Let's say I want to change the fruit names to include a statement about how much I love all of them, and store that in an object so I can access it after the fact:"
   ]
  },
  {
   "cell_type": "code",
   "execution_count": null,
   "metadata": {},
   "outputs": [],
   "source": [
    "fruits <- c('apples','pears','oranges','pineapples')\n",
    "\n",
    "## initialize output object that has the same length as the number of times the for loop will run, in this case it's just\n",
    "## the length of the 'fruits' vector\n",
    "out <- vector(,length(fruits))\n",
    "## im also gonna add a counter\n",
    "count = 0\n",
    "\n",
    "for (fruit in fruits){\n",
    "    count = count + 1\n",
    "    out[count] <- paste('Gosh, I really love', fruit)\n",
    "    ## print the output on each iteration\n",
    "    print(out)\n",
    "    cat('\\n')\n",
    "}\n",
    "\n",
    "#print(out)"
   ]
  },
  {
   "cell_type": "markdown",
   "metadata": {},
   "source": [
    "You can see that, on each iteration, the \"slots\" of the vector get incrementally filled according to which iteration of the loop it is. This same logic applies to filling the entries of any data object, the indexing just gets more tricky when the objects are no longer one dimensional."
   ]
  }
 ],
 "metadata": {
  "kernelspec": {
   "display_name": "R",
   "language": "R",
   "name": "ir"
  },
  "language_info": {
   "codemirror_mode": "r",
   "file_extension": ".r",
   "mimetype": "text/x-r-source",
   "name": "R",
   "pygments_lexer": "r",
   "version": "3.4.4"
  }
 },
 "nbformat": 4,
 "nbformat_minor": 2
}
