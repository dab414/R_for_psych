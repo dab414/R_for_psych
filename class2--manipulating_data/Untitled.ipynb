{
 "cells": [
  {
   "cell_type": "markdown",
   "metadata": {},
   "source": [
    "## Data Wrangling with DPlyr"
   ]
  },
  {
   "cell_type": "code",
   "execution_count": null,
   "metadata": {},
   "outputs": [],
   "source": [
    "install.packages('dplyr')"
   ]
  },
  {
   "cell_type": "code",
   "execution_count": 3,
   "metadata": {},
   "outputs": [
    {
     "name": "stderr",
     "output_type": "stream",
     "text": [
      "\n",
      "Attaching package: ‘dplyr’\n",
      "\n",
      "The following objects are masked from ‘package:stats’:\n",
      "\n",
      "    filter, lag\n",
      "\n",
      "The following objects are masked from ‘package:base’:\n",
      "\n",
      "    intersect, setdiff, setequal, union\n",
      "\n"
     ]
    }
   ],
   "source": [
    "library(dplyr)"
   ]
  },
  {
   "cell_type": "code",
   "execution_count": 8,
   "metadata": {},
   "outputs": [
    {
     "data": {
      "text/html": [
       "<table>\n",
       "<thead><tr><th scope=col>direction</th><th scope=col>orientation</th><th scope=col>station</th><th scope=col>subjective_distance</th><th scope=col>error</th></tr></thead>\n",
       "<tbody>\n",
       "\t<tr><td>EAST</td><td>1   </td><td>1   </td><td>5   </td><td>1   </td></tr>\n",
       "\t<tr><td>EAST</td><td>1   </td><td>1   </td><td>4   </td><td>0   </td></tr>\n",
       "\t<tr><td>EAST</td><td>1   </td><td>1   </td><td>3   </td><td>1   </td></tr>\n",
       "\t<tr><td>EAST</td><td>1   </td><td>1   </td><td>3   </td><td>0   </td></tr>\n",
       "\t<tr><td>EAST</td><td>1   </td><td>1   </td><td>4   </td><td>0   </td></tr>\n",
       "\t<tr><td>EAST</td><td>1   </td><td>1   </td><td>1   </td><td>0   </td></tr>\n",
       "</tbody>\n",
       "</table>\n"
      ],
      "text/latex": [
       "\\begin{tabular}{r|lllll}\n",
       " direction & orientation & station & subjective\\_distance & error\\\\\n",
       "\\hline\n",
       "\t EAST & 1    & 1    & 5    & 1   \\\\\n",
       "\t EAST & 1    & 1    & 4    & 0   \\\\\n",
       "\t EAST & 1    & 1    & 3    & 1   \\\\\n",
       "\t EAST & 1    & 1    & 3    & 0   \\\\\n",
       "\t EAST & 1    & 1    & 4    & 0   \\\\\n",
       "\t EAST & 1    & 1    & 1    & 0   \\\\\n",
       "\\end{tabular}\n"
      ],
      "text/markdown": [
       "\n",
       "direction | orientation | station | subjective_distance | error | \n",
       "|---|---|---|---|---|---|\n",
       "| EAST | 1    | 1    | 5    | 1    | \n",
       "| EAST | 1    | 1    | 4    | 0    | \n",
       "| EAST | 1    | 1    | 3    | 1    | \n",
       "| EAST | 1    | 1    | 3    | 0    | \n",
       "| EAST | 1    | 1    | 4    | 0    | \n",
       "| EAST | 1    | 1    | 1    | 0    | \n",
       "\n",
       "\n"
      ],
      "text/plain": [
       "  direction orientation station subjective_distance error\n",
       "1 EAST      1           1       5                   1    \n",
       "2 EAST      1           1       4                   0    \n",
       "3 EAST      1           1       3                   1    \n",
       "4 EAST      1           1       3                   0    \n",
       "5 EAST      1           1       4                   0    \n",
       "6 EAST      1           1       1                   0    "
      ]
     },
     "metadata": {},
     "output_type": "display_data"
    }
   ],
   "source": [
    "current_data <- read.csv('https://davebraun.org/quant/current_data.csv')\n",
    "head(current_data)"
   ]
  },
  {
   "cell_type": "code",
   "execution_count": 10,
   "metadata": {},
   "outputs": [
    {
     "data": {
      "text/plain": [
       " direction   orientation     station      subjective_distance     error       \n",
       " EAST:101   Min.   :1.0   Min.   :1.000   Min.   :1.000       Min.   :0.0000  \n",
       " WEST:101   1st Qu.:1.0   1st Qu.:1.250   1st Qu.:2.000       1st Qu.:0.0000  \n",
       "            Median :1.5   Median :2.000   Median :3.000       Median :0.0000  \n",
       "            Mean   :1.5   Mean   :2.495   Mean   :2.673       Mean   :0.3218  \n",
       "            3rd Qu.:2.0   3rd Qu.:3.750   3rd Qu.:4.000       3rd Qu.:1.0000  \n",
       "            Max.   :2.0   Max.   :4.000   Max.   :6.000       Max.   :1.0000  "
      ]
     },
     "metadata": {},
     "output_type": "display_data"
    },
    {
     "name": "stdout",
     "output_type": "stream",
     "text": [
      "Observations: 202\n",
      "Variables: 5\n",
      "$ direction           <fct> EAST, EAST, EAST, EAST, EAST, EAST, EAST, EAST,...\n",
      "$ orientation         <int> 1, 1, 1, 1, 1, 1, 1, 1, 1, 1, 1, 1, 1, 1, 1, 1,...\n",
      "$ station             <int> 1, 1, 1, 1, 1, 1, 1, 1, 1, 1, 1, 1, 1, 1, 1, 1,...\n",
      "$ subjective_distance <int> 5, 4, 3, 3, 4, 1, 4, 4, 5, 3, 2, 4, 5, 3, 3, 4,...\n",
      "$ error               <int> 1, 0, 1, 0, 0, 0, 0, 1, 0, 1, 1, 0, 0, 1, 1, 0,...\n"
     ]
    }
   ],
   "source": [
    "summary(current_data)\n",
    "glimpse(current_data)"
   ]
  },
  {
   "cell_type": "raw",
   "metadata": {},
   "source": [
    "summarize(current_data, mean(subjective_distance))\n",
    "mean(current_data$subjective_distance)"
   ]
  },
  {
   "cell_type": "code",
   "execution_count": 21,
   "metadata": {},
   "outputs": [
    {
     "data": {
      "text/html": [
       "<table>\n",
       "<thead><tr><th scope=col>mean(subjective_distance)</th></tr></thead>\n",
       "<tbody>\n",
       "\t<tr><td>2.673267</td></tr>\n",
       "</tbody>\n",
       "</table>\n"
      ],
      "text/latex": [
       "\\begin{tabular}{r|l}\n",
       " mean(subjective\\_distance)\\\\\n",
       "\\hline\n",
       "\t 2.673267\\\\\n",
       "\\end{tabular}\n"
      ],
      "text/markdown": [
       "\n",
       "mean(subjective_distance) | \n",
       "|---|\n",
       "| 2.673267 | \n",
       "\n",
       "\n"
      ],
      "text/plain": [
       "  mean(subjective_distance)\n",
       "1 2.673267                 "
      ]
     },
     "metadata": {},
     "output_type": "display_data"
    }
   ],
   "source": [
    "current_data %>% \n",
    "summarize(mean(subjective_distance))"
   ]
  },
  {
   "cell_type": "code",
   "execution_count": 29,
   "metadata": {},
   "outputs": [
    {
     "data": {
      "text/html": [
       "<table>\n",
       "<thead><tr><th scope=col>direction</th><th scope=col>station</th><th scope=col>distance</th><th scope=col>maximum</th></tr></thead>\n",
       "<tbody>\n",
       "\t<tr><td>EAST    </td><td>1       </td><td>3.625000</td><td>5       </td></tr>\n",
       "\t<tr><td>EAST    </td><td>2       </td><td>2.600000</td><td>4       </td></tr>\n",
       "\t<tr><td>EAST    </td><td>3       </td><td>1.529412</td><td>3       </td></tr>\n",
       "\t<tr><td>EAST    </td><td>4       </td><td>2.789474</td><td>5       </td></tr>\n",
       "\t<tr><td>WEST    </td><td>1       </td><td>2.823529</td><td>4       </td></tr>\n",
       "\t<tr><td>WEST    </td><td>2       </td><td>1.695652</td><td>3       </td></tr>\n",
       "\t<tr><td>WEST    </td><td>3       </td><td>2.333333</td><td>5       </td></tr>\n",
       "\t<tr><td>WEST    </td><td>4       </td><td>4.200000</td><td>6       </td></tr>\n",
       "</tbody>\n",
       "</table>\n"
      ],
      "text/latex": [
       "\\begin{tabular}{r|llll}\n",
       " direction & station & distance & maximum\\\\\n",
       "\\hline\n",
       "\t EAST     & 1        & 3.625000 & 5       \\\\\n",
       "\t EAST     & 2        & 2.600000 & 4       \\\\\n",
       "\t EAST     & 3        & 1.529412 & 3       \\\\\n",
       "\t EAST     & 4        & 2.789474 & 5       \\\\\n",
       "\t WEST     & 1        & 2.823529 & 4       \\\\\n",
       "\t WEST     & 2        & 1.695652 & 3       \\\\\n",
       "\t WEST     & 3        & 2.333333 & 5       \\\\\n",
       "\t WEST     & 4        & 4.200000 & 6       \\\\\n",
       "\\end{tabular}\n"
      ],
      "text/markdown": [
       "\n",
       "direction | station | distance | maximum | \n",
       "|---|---|---|---|---|---|---|---|\n",
       "| EAST     | 1        | 3.625000 | 5        | \n",
       "| EAST     | 2        | 2.600000 | 4        | \n",
       "| EAST     | 3        | 1.529412 | 3        | \n",
       "| EAST     | 4        | 2.789474 | 5        | \n",
       "| WEST     | 1        | 2.823529 | 4        | \n",
       "| WEST     | 2        | 1.695652 | 3        | \n",
       "| WEST     | 3        | 2.333333 | 5        | \n",
       "| WEST     | 4        | 4.200000 | 6        | \n",
       "\n",
       "\n"
      ],
      "text/plain": [
       "  direction station distance maximum\n",
       "1 EAST      1       3.625000 5      \n",
       "2 EAST      2       2.600000 4      \n",
       "3 EAST      3       1.529412 3      \n",
       "4 EAST      4       2.789474 5      \n",
       "5 WEST      1       2.823529 4      \n",
       "6 WEST      2       1.695652 3      \n",
       "7 WEST      3       2.333333 5      \n",
       "8 WEST      4       4.200000 6      "
      ]
     },
     "metadata": {},
     "output_type": "display_data"
    }
   ],
   "source": [
    "current_data %>% \n",
    "filter(error == 0) %>% \n",
    "group_by(direction, station) %>% \n",
    "summarize(distance = mean(subjective_distance), maximum = max(subjective_distance))"
   ]
  },
  {
   "cell_type": "code",
   "execution_count": null,
   "metadata": {},
   "outputs": [],
   "source": [
    "current_data[current_data$error == 0,]"
   ]
  }
 ],
 "metadata": {
  "kernelspec": {
   "display_name": "R",
   "language": "R",
   "name": "ir"
  },
  "language_info": {
   "codemirror_mode": "r",
   "file_extension": ".r",
   "mimetype": "text/x-r-source",
   "name": "R",
   "pygments_lexer": "r",
   "version": "3.4.4"
  }
 },
 "nbformat": 4,
 "nbformat_minor": 2
}
